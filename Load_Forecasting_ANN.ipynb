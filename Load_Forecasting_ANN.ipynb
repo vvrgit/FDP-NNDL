{
  "nbformat": 4,
  "nbformat_minor": 0,
  "metadata": {
    "colab": {
      "provenance": [],
      "mount_file_id": "1iniwZKtbFq4eu05u6pXhn8goQ7Vdsmo1",
      "authorship_tag": "ABX9TyPSjyJm6gvY8Vnrqx0l51up",
      "include_colab_link": true
    },
    "kernelspec": {
      "name": "python3",
      "display_name": "Python 3"
    },
    "language_info": {
      "name": "python"
    }
  },
  "cells": [
    {
      "cell_type": "markdown",
      "metadata": {
        "id": "view-in-github",
        "colab_type": "text"
      },
      "source": [
        "<a href=\"https://colab.research.google.com/github/vvrgit/FDP-NNDL/blob/main/Load_Forecasting_ANN.ipynb\" target=\"_parent\"><img src=\"https://colab.research.google.com/assets/colab-badge.svg\" alt=\"Open In Colab\"/></a>"
      ]
    },
    {
      "cell_type": "markdown",
      "source": [
        "#Mount Google Drive"
      ],
      "metadata": {
        "id": "I22eK6bo3tFv"
      }
    },
    {
      "cell_type": "code",
      "execution_count": 29,
      "metadata": {
        "colab": {
          "base_uri": "https://localhost:8080/"
        },
        "id": "uC1COtay3dsr",
        "outputId": "53e2be0a-ae0c-402d-ad2a-1cd80d055c6c"
      },
      "outputs": [
        {
          "output_type": "stream",
          "name": "stdout",
          "text": [
            "Drive already mounted at /content/drive; to attempt to forcibly remount, call drive.mount(\"/content/drive\", force_remount=True).\n"
          ]
        }
      ],
      "source": [
        "from google.colab import drive\n",
        "drive.mount('/content/drive')"
      ]
    },
    {
      "cell_type": "markdown",
      "source": [
        "# Implement ANN with keras - Regression Problem"
      ],
      "metadata": {
        "id": "MVrAOqAi30t4"
      }
    },
    {
      "cell_type": "code",
      "source": [
        "import numpy as np\n",
        "import matplotlib.pyplot as plt\n",
        "import keras  #Keras is the deep learning library that helps you to code Deep Neural Networks with fewer lines of code\n",
        "from keras.models import Sequential\n",
        "from keras.layers import Dense\n",
        "from tensorflow.keras.optimizers import RMSprop,Adadelta,SGD,Adagrad,Adam\n",
        "import pandas as pd # For Data manipulation"
      ],
      "metadata": {
        "id": "q_5b3-qM3vQG"
      },
      "execution_count": 30,
      "outputs": []
    },
    {
      "cell_type": "markdown",
      "source": [
        "#Load Data"
      ],
      "metadata": {
        "id": "5-l65dfF4Cb8"
      }
    },
    {
      "cell_type": "code",
      "source": [
        "load_data=pd.read_excel(\"/content/drive/MyDrive/NNDL-Data/Load.xlsx\")\n",
        "list_of_columns = load_data.columns\n",
        "load_data.head()"
      ],
      "metadata": {
        "colab": {
          "base_uri": "https://localhost:8080/",
          "height": 243
        },
        "id": "i7iUQxKP4BAc",
        "outputId": "f9e7492a-7570-4393-f90b-2bd06a07cf0f"
      },
      "execution_count": 31,
      "outputs": [
        {
          "output_type": "execute_result",
          "data": {
            "text/plain": [
              "    L(T-1)   L(T-2)  L(T-24)  L(T-48)   P(T-1)   P(T-2)  P(T-24)  P(T-48)  \\\n",
              "0  4851.90  4309.93  5257.03  4574.50  2313.77  2333.89  2328.34  2285.62   \n",
              "1  5604.93  4851.90  5527.90  5217.88  2005.82  2313.77  2143.30  2097.21   \n",
              "2  6012.75  5604.93  5820.83  5314.53  1886.45  2005.82  2024.52  2008.19   \n",
              "3  6163.53  6012.75  5910.98  5471.73  1810.42  1886.45  1942.67  2008.32   \n",
              "4  6310.30  6163.53  6189.18  5974.50  1805.42  1810.42  2071.41  2038.73   \n",
              "\n",
              "   Day  Season     L(T)  \n",
              "0    1       2  5604.93  \n",
              "1    1       2  6012.75  \n",
              "2    1       2  6163.53  \n",
              "3    1       2  6310.30  \n",
              "4    1       2  6606.13  "
            ],
            "text/html": [
              "\n",
              "  <div id=\"df-55eda07a-4cb1-4ce6-8c99-e14d9bcdd445\" class=\"colab-df-container\">\n",
              "    <div>\n",
              "<style scoped>\n",
              "    .dataframe tbody tr th:only-of-type {\n",
              "        vertical-align: middle;\n",
              "    }\n",
              "\n",
              "    .dataframe tbody tr th {\n",
              "        vertical-align: top;\n",
              "    }\n",
              "\n",
              "    .dataframe thead th {\n",
              "        text-align: right;\n",
              "    }\n",
              "</style>\n",
              "<table border=\"1\" class=\"dataframe\">\n",
              "  <thead>\n",
              "    <tr style=\"text-align: right;\">\n",
              "      <th></th>\n",
              "      <th>L(T-1)</th>\n",
              "      <th>L(T-2)</th>\n",
              "      <th>L(T-24)</th>\n",
              "      <th>L(T-48)</th>\n",
              "      <th>P(T-1)</th>\n",
              "      <th>P(T-2)</th>\n",
              "      <th>P(T-24)</th>\n",
              "      <th>P(T-48)</th>\n",
              "      <th>Day</th>\n",
              "      <th>Season</th>\n",
              "      <th>L(T)</th>\n",
              "    </tr>\n",
              "  </thead>\n",
              "  <tbody>\n",
              "    <tr>\n",
              "      <th>0</th>\n",
              "      <td>4851.90</td>\n",
              "      <td>4309.93</td>\n",
              "      <td>5257.03</td>\n",
              "      <td>4574.50</td>\n",
              "      <td>2313.77</td>\n",
              "      <td>2333.89</td>\n",
              "      <td>2328.34</td>\n",
              "      <td>2285.62</td>\n",
              "      <td>1</td>\n",
              "      <td>2</td>\n",
              "      <td>5604.93</td>\n",
              "    </tr>\n",
              "    <tr>\n",
              "      <th>1</th>\n",
              "      <td>5604.93</td>\n",
              "      <td>4851.90</td>\n",
              "      <td>5527.90</td>\n",
              "      <td>5217.88</td>\n",
              "      <td>2005.82</td>\n",
              "      <td>2313.77</td>\n",
              "      <td>2143.30</td>\n",
              "      <td>2097.21</td>\n",
              "      <td>1</td>\n",
              "      <td>2</td>\n",
              "      <td>6012.75</td>\n",
              "    </tr>\n",
              "    <tr>\n",
              "      <th>2</th>\n",
              "      <td>6012.75</td>\n",
              "      <td>5604.93</td>\n",
              "      <td>5820.83</td>\n",
              "      <td>5314.53</td>\n",
              "      <td>1886.45</td>\n",
              "      <td>2005.82</td>\n",
              "      <td>2024.52</td>\n",
              "      <td>2008.19</td>\n",
              "      <td>1</td>\n",
              "      <td>2</td>\n",
              "      <td>6163.53</td>\n",
              "    </tr>\n",
              "    <tr>\n",
              "      <th>3</th>\n",
              "      <td>6163.53</td>\n",
              "      <td>6012.75</td>\n",
              "      <td>5910.98</td>\n",
              "      <td>5471.73</td>\n",
              "      <td>1810.42</td>\n",
              "      <td>1886.45</td>\n",
              "      <td>1942.67</td>\n",
              "      <td>2008.32</td>\n",
              "      <td>1</td>\n",
              "      <td>2</td>\n",
              "      <td>6310.30</td>\n",
              "    </tr>\n",
              "    <tr>\n",
              "      <th>4</th>\n",
              "      <td>6310.30</td>\n",
              "      <td>6163.53</td>\n",
              "      <td>6189.18</td>\n",
              "      <td>5974.50</td>\n",
              "      <td>1805.42</td>\n",
              "      <td>1810.42</td>\n",
              "      <td>2071.41</td>\n",
              "      <td>2038.73</td>\n",
              "      <td>1</td>\n",
              "      <td>2</td>\n",
              "      <td>6606.13</td>\n",
              "    </tr>\n",
              "  </tbody>\n",
              "</table>\n",
              "</div>\n",
              "    <div class=\"colab-df-buttons\">\n",
              "\n",
              "  <div class=\"colab-df-container\">\n",
              "    <button class=\"colab-df-convert\" onclick=\"convertToInteractive('df-55eda07a-4cb1-4ce6-8c99-e14d9bcdd445')\"\n",
              "            title=\"Convert this dataframe to an interactive table.\"\n",
              "            style=\"display:none;\">\n",
              "\n",
              "  <svg xmlns=\"http://www.w3.org/2000/svg\" height=\"24px\" viewBox=\"0 -960 960 960\">\n",
              "    <path d=\"M120-120v-720h720v720H120Zm60-500h600v-160H180v160Zm220 220h160v-160H400v160Zm0 220h160v-160H400v160ZM180-400h160v-160H180v160Zm440 0h160v-160H620v160ZM180-180h160v-160H180v160Zm440 0h160v-160H620v160Z\"/>\n",
              "  </svg>\n",
              "    </button>\n",
              "\n",
              "  <style>\n",
              "    .colab-df-container {\n",
              "      display:flex;\n",
              "      gap: 12px;\n",
              "    }\n",
              "\n",
              "    .colab-df-convert {\n",
              "      background-color: #E8F0FE;\n",
              "      border: none;\n",
              "      border-radius: 50%;\n",
              "      cursor: pointer;\n",
              "      display: none;\n",
              "      fill: #1967D2;\n",
              "      height: 32px;\n",
              "      padding: 0 0 0 0;\n",
              "      width: 32px;\n",
              "    }\n",
              "\n",
              "    .colab-df-convert:hover {\n",
              "      background-color: #E2EBFA;\n",
              "      box-shadow: 0px 1px 2px rgba(60, 64, 67, 0.3), 0px 1px 3px 1px rgba(60, 64, 67, 0.15);\n",
              "      fill: #174EA6;\n",
              "    }\n",
              "\n",
              "    .colab-df-buttons div {\n",
              "      margin-bottom: 4px;\n",
              "    }\n",
              "\n",
              "    [theme=dark] .colab-df-convert {\n",
              "      background-color: #3B4455;\n",
              "      fill: #D2E3FC;\n",
              "    }\n",
              "\n",
              "    [theme=dark] .colab-df-convert:hover {\n",
              "      background-color: #434B5C;\n",
              "      box-shadow: 0px 1px 3px 1px rgba(0, 0, 0, 0.15);\n",
              "      filter: drop-shadow(0px 1px 2px rgba(0, 0, 0, 0.3));\n",
              "      fill: #FFFFFF;\n",
              "    }\n",
              "  </style>\n",
              "\n",
              "    <script>\n",
              "      const buttonEl =\n",
              "        document.querySelector('#df-55eda07a-4cb1-4ce6-8c99-e14d9bcdd445 button.colab-df-convert');\n",
              "      buttonEl.style.display =\n",
              "        google.colab.kernel.accessAllowed ? 'block' : 'none';\n",
              "\n",
              "      async function convertToInteractive(key) {\n",
              "        const element = document.querySelector('#df-55eda07a-4cb1-4ce6-8c99-e14d9bcdd445');\n",
              "        const dataTable =\n",
              "          await google.colab.kernel.invokeFunction('convertToInteractive',\n",
              "                                                    [key], {});\n",
              "        if (!dataTable) return;\n",
              "\n",
              "        const docLinkHtml = 'Like what you see? Visit the ' +\n",
              "          '<a target=\"_blank\" href=https://colab.research.google.com/notebooks/data_table.ipynb>data table notebook</a>'\n",
              "          + ' to learn more about interactive tables.';\n",
              "        element.innerHTML = '';\n",
              "        dataTable['output_type'] = 'display_data';\n",
              "        await google.colab.output.renderOutput(dataTable, element);\n",
              "        const docLink = document.createElement('div');\n",
              "        docLink.innerHTML = docLinkHtml;\n",
              "        element.appendChild(docLink);\n",
              "      }\n",
              "    </script>\n",
              "  </div>\n",
              "\n",
              "\n",
              "<div id=\"df-7442fbca-0196-4d3e-bd8a-11a2c11ed04e\">\n",
              "  <button class=\"colab-df-quickchart\" onclick=\"quickchart('df-7442fbca-0196-4d3e-bd8a-11a2c11ed04e')\"\n",
              "            title=\"Suggest charts\"\n",
              "            style=\"display:none;\">\n",
              "\n",
              "<svg xmlns=\"http://www.w3.org/2000/svg\" height=\"24px\"viewBox=\"0 0 24 24\"\n",
              "     width=\"24px\">\n",
              "    <g>\n",
              "        <path d=\"M19 3H5c-1.1 0-2 .9-2 2v14c0 1.1.9 2 2 2h14c1.1 0 2-.9 2-2V5c0-1.1-.9-2-2-2zM9 17H7v-7h2v7zm4 0h-2V7h2v10zm4 0h-2v-4h2v4z\"/>\n",
              "    </g>\n",
              "</svg>\n",
              "  </button>\n",
              "\n",
              "<style>\n",
              "  .colab-df-quickchart {\n",
              "      --bg-color: #E8F0FE;\n",
              "      --fill-color: #1967D2;\n",
              "      --hover-bg-color: #E2EBFA;\n",
              "      --hover-fill-color: #174EA6;\n",
              "      --disabled-fill-color: #AAA;\n",
              "      --disabled-bg-color: #DDD;\n",
              "  }\n",
              "\n",
              "  [theme=dark] .colab-df-quickchart {\n",
              "      --bg-color: #3B4455;\n",
              "      --fill-color: #D2E3FC;\n",
              "      --hover-bg-color: #434B5C;\n",
              "      --hover-fill-color: #FFFFFF;\n",
              "      --disabled-bg-color: #3B4455;\n",
              "      --disabled-fill-color: #666;\n",
              "  }\n",
              "\n",
              "  .colab-df-quickchart {\n",
              "    background-color: var(--bg-color);\n",
              "    border: none;\n",
              "    border-radius: 50%;\n",
              "    cursor: pointer;\n",
              "    display: none;\n",
              "    fill: var(--fill-color);\n",
              "    height: 32px;\n",
              "    padding: 0;\n",
              "    width: 32px;\n",
              "  }\n",
              "\n",
              "  .colab-df-quickchart:hover {\n",
              "    background-color: var(--hover-bg-color);\n",
              "    box-shadow: 0 1px 2px rgba(60, 64, 67, 0.3), 0 1px 3px 1px rgba(60, 64, 67, 0.15);\n",
              "    fill: var(--button-hover-fill-color);\n",
              "  }\n",
              "\n",
              "  .colab-df-quickchart-complete:disabled,\n",
              "  .colab-df-quickchart-complete:disabled:hover {\n",
              "    background-color: var(--disabled-bg-color);\n",
              "    fill: var(--disabled-fill-color);\n",
              "    box-shadow: none;\n",
              "  }\n",
              "\n",
              "  .colab-df-spinner {\n",
              "    border: 2px solid var(--fill-color);\n",
              "    border-color: transparent;\n",
              "    border-bottom-color: var(--fill-color);\n",
              "    animation:\n",
              "      spin 1s steps(1) infinite;\n",
              "  }\n",
              "\n",
              "  @keyframes spin {\n",
              "    0% {\n",
              "      border-color: transparent;\n",
              "      border-bottom-color: var(--fill-color);\n",
              "      border-left-color: var(--fill-color);\n",
              "    }\n",
              "    20% {\n",
              "      border-color: transparent;\n",
              "      border-left-color: var(--fill-color);\n",
              "      border-top-color: var(--fill-color);\n",
              "    }\n",
              "    30% {\n",
              "      border-color: transparent;\n",
              "      border-left-color: var(--fill-color);\n",
              "      border-top-color: var(--fill-color);\n",
              "      border-right-color: var(--fill-color);\n",
              "    }\n",
              "    40% {\n",
              "      border-color: transparent;\n",
              "      border-right-color: var(--fill-color);\n",
              "      border-top-color: var(--fill-color);\n",
              "    }\n",
              "    60% {\n",
              "      border-color: transparent;\n",
              "      border-right-color: var(--fill-color);\n",
              "    }\n",
              "    80% {\n",
              "      border-color: transparent;\n",
              "      border-right-color: var(--fill-color);\n",
              "      border-bottom-color: var(--fill-color);\n",
              "    }\n",
              "    90% {\n",
              "      border-color: transparent;\n",
              "      border-bottom-color: var(--fill-color);\n",
              "    }\n",
              "  }\n",
              "</style>\n",
              "\n",
              "  <script>\n",
              "    async function quickchart(key) {\n",
              "      const quickchartButtonEl =\n",
              "        document.querySelector('#' + key + ' button');\n",
              "      quickchartButtonEl.disabled = true;  // To prevent multiple clicks.\n",
              "      quickchartButtonEl.classList.add('colab-df-spinner');\n",
              "      try {\n",
              "        const charts = await google.colab.kernel.invokeFunction(\n",
              "            'suggestCharts', [key], {});\n",
              "      } catch (error) {\n",
              "        console.error('Error during call to suggestCharts:', error);\n",
              "      }\n",
              "      quickchartButtonEl.classList.remove('colab-df-spinner');\n",
              "      quickchartButtonEl.classList.add('colab-df-quickchart-complete');\n",
              "    }\n",
              "    (() => {\n",
              "      let quickchartButtonEl =\n",
              "        document.querySelector('#df-7442fbca-0196-4d3e-bd8a-11a2c11ed04e button');\n",
              "      quickchartButtonEl.style.display =\n",
              "        google.colab.kernel.accessAllowed ? 'block' : 'none';\n",
              "    })();\n",
              "  </script>\n",
              "</div>\n",
              "\n",
              "    </div>\n",
              "  </div>\n"
            ],
            "application/vnd.google.colaboratory.intrinsic+json": {
              "type": "dataframe",
              "variable_name": "load_data",
              "summary": "{\n  \"name\": \"load_data\",\n  \"rows\": 23304,\n  \"fields\": [\n    {\n      \"column\": \"L(T-1)\",\n      \"properties\": {\n        \"dtype\": \"number\",\n        \"std\": 2012.3734661587375,\n        \"min\": 1229.18,\n        \"max\": 15096.73,\n        \"num_unique_values\": 22755,\n        \"samples\": [\n          5356.06,\n          5339.92,\n          8367.88\n        ],\n        \"semantic_type\": \"\",\n        \"description\": \"\"\n      }\n    },\n    {\n      \"column\": \"L(T-2)\",\n      \"properties\": {\n        \"dtype\": \"number\",\n        \"std\": 2012.2034119282525,\n        \"min\": 1229.18,\n        \"max\": 15096.73,\n        \"num_unique_values\": 22755,\n        \"samples\": [\n          5574.29,\n          5821.41,\n          9215.95\n        ],\n        \"semantic_type\": \"\",\n        \"description\": \"\"\n      }\n    },\n    {\n      \"column\": \"L(T-24)\",\n      \"properties\": {\n        \"dtype\": \"number\",\n        \"std\": 2011.1889303126009,\n        \"min\": 1229.18,\n        \"max\": 15096.73,\n        \"num_unique_values\": 22753,\n        \"samples\": [\n          8911.62,\n          7074.21,\n          6098.68\n        ],\n        \"semantic_type\": \"\",\n        \"description\": \"\"\n      }\n    },\n    {\n      \"column\": \"L(T-48)\",\n      \"properties\": {\n        \"dtype\": \"number\",\n        \"std\": 2010.5642441687357,\n        \"min\": 1229.18,\n        \"max\": 15096.73,\n        \"num_unique_values\": 22752,\n        \"samples\": [\n          9130.04,\n          8695.61,\n          6933.58\n        ],\n        \"semantic_type\": \"\",\n        \"description\": \"\"\n      }\n    },\n    {\n      \"column\": \"P(T-1)\",\n      \"properties\": {\n        \"dtype\": \"number\",\n        \"std\": 3135.9349649955525,\n        \"min\": 598.75,\n        \"max\": 20000.0,\n        \"num_unique_values\": 20759,\n        \"samples\": [\n          4619.6,\n          6314.28,\n          2949.18\n        ],\n        \"semantic_type\": \"\",\n        \"description\": \"\"\n      }\n    },\n    {\n      \"column\": \"P(T-2)\",\n      \"properties\": {\n        \"dtype\": \"number\",\n        \"std\": 3135.8187245625368,\n        \"min\": 598.75,\n        \"max\": 20000.0,\n        \"num_unique_values\": 20760,\n        \"samples\": [\n          3836.45,\n          2584.65,\n          7750.33\n        ],\n        \"semantic_type\": \"\",\n        \"description\": \"\"\n      }\n    },\n    {\n      \"column\": \"P(T-24)\",\n      \"properties\": {\n        \"dtype\": \"number\",\n        \"std\": 3133.8132980419323,\n        \"min\": 598.75,\n        \"max\": 20000.0,\n        \"num_unique_values\": 20771,\n        \"samples\": [\n          2758.44,\n          2627.27,\n          1399.77\n        ],\n        \"semantic_type\": \"\",\n        \"description\": \"\"\n      }\n    },\n    {\n      \"column\": \"P(T-48)\",\n      \"properties\": {\n        \"dtype\": \"number\",\n        \"std\": 3131.78504565892,\n        \"min\": 598.75,\n        \"max\": 20000.0,\n        \"num_unique_values\": 20786,\n        \"samples\": [\n          3287.52,\n          2097.67,\n          4000.43\n        ],\n        \"semantic_type\": \"\",\n        \"description\": \"\"\n      }\n    },\n    {\n      \"column\": \"Day\",\n      \"properties\": {\n        \"dtype\": \"number\",\n        \"std\": 0,\n        \"min\": 0,\n        \"max\": 1,\n        \"num_unique_values\": 2,\n        \"samples\": [\n          0,\n          1\n        ],\n        \"semantic_type\": \"\",\n        \"description\": \"\"\n      }\n    },\n    {\n      \"column\": \"Season\",\n      \"properties\": {\n        \"dtype\": \"number\",\n        \"std\": 0,\n        \"min\": 0,\n        \"max\": 2,\n        \"num_unique_values\": 3,\n        \"samples\": [\n          2,\n          1\n        ],\n        \"semantic_type\": \"\",\n        \"description\": \"\"\n      }\n    },\n    {\n      \"column\": \"L(T)\",\n      \"properties\": {\n        \"dtype\": \"number\",\n        \"std\": 2012.5635637880202,\n        \"min\": 1229.18,\n        \"max\": 15096.73,\n        \"num_unique_values\": 22755,\n        \"samples\": [\n          5673.05,\n          5164.45\n        ],\n        \"semantic_type\": \"\",\n        \"description\": \"\"\n      }\n    }\n  ]\n}"
            }
          },
          "metadata": {},
          "execution_count": 31
        }
      ]
    },
    {
      "cell_type": "code",
      "source": [
        "min_load=load_data.min()\n",
        "print(min_load)\n",
        "max_load=load_data.max()\n",
        "print(max_load)"
      ],
      "metadata": {
        "colab": {
          "base_uri": "https://localhost:8080/"
        },
        "id": "OTbWuD3f4szu",
        "outputId": "06dc0108-48a4-4c94-efc8-0de4d497c990"
      },
      "execution_count": 54,
      "outputs": [
        {
          "output_type": "stream",
          "name": "stdout",
          "text": [
            "L(T-1)     1229.18\n",
            "L(T-2)     1229.18\n",
            "L(T-24)    1229.18\n",
            "L(T-48)    1229.18\n",
            "P(T-1)      598.75\n",
            "P(T-2)      598.75\n",
            "P(T-24)     598.75\n",
            "P(T-48)     598.75\n",
            "Day           0.00\n",
            "Season        0.00\n",
            "L(T)       1229.18\n",
            "dtype: float64\n",
            "L(T-1)     15096.73\n",
            "L(T-2)     15096.73\n",
            "L(T-24)    15096.73\n",
            "L(T-48)    15096.73\n",
            "P(T-1)     20000.00\n",
            "P(T-2)     20000.00\n",
            "P(T-24)    20000.00\n",
            "P(T-48)    20000.00\n",
            "Day            1.00\n",
            "Season         2.00\n",
            "L(T)       15096.73\n",
            "dtype: float64\n"
          ]
        }
      ]
    },
    {
      "cell_type": "code",
      "source": [
        "min_target=load_data['L(T)'].min()\n",
        "print(min_target)\n",
        "max_target=load_data['L(T)'].max()\n",
        "print(max_target)\n",
        "min_price=load_data['P(T-1)'].min()\n",
        "print(min_price)\n",
        "max_price=load_data['P(T-1)'].max()\n",
        "print(max_price)"
      ],
      "metadata": {
        "colab": {
          "base_uri": "https://localhost:8080/"
        },
        "id": "Sch6YxLNBpXC",
        "outputId": "a2fa0c31-21e8-4b63-9830-11351775c55c"
      },
      "execution_count": 69,
      "outputs": [
        {
          "output_type": "stream",
          "name": "stdout",
          "text": [
            "1229.18\n",
            "15096.73\n",
            "598.75\n",
            "20000.0\n"
          ]
        }
      ]
    },
    {
      "cell_type": "markdown",
      "source": [
        "#Statistical Information"
      ],
      "metadata": {
        "id": "X4gvOvRD5FvU"
      }
    },
    {
      "cell_type": "code",
      "source": [
        "load_data.describe()"
      ],
      "metadata": {
        "colab": {
          "base_uri": "https://localhost:8080/",
          "height": 320
        },
        "id": "_g72jTfj4_BA",
        "outputId": "433242eb-8293-40bb-bac0-ed1fea54ab5b"
      },
      "execution_count": 33,
      "outputs": [
        {
          "output_type": "execute_result",
          "data": {
            "text/plain": [
              "             L(T-1)        L(T-2)       L(T-24)       L(T-48)        P(T-1)  \\\n",
              "count  23304.000000  23304.000000  23304.000000  23304.000000  23304.000000   \n",
              "mean    6599.603310   6599.702593   6603.358441   6605.967243   5059.075687   \n",
              "std     2012.373466   2012.203412   2011.188930   2010.564244   3135.934965   \n",
              "min     1229.180000   1229.180000   1229.180000   1229.180000    598.750000   \n",
              "25%     5134.032500   5134.032500   5137.087500   5139.557500   2995.015000   \n",
              "50%     6355.980000   6355.980000   6359.210000   6362.490000   3879.070000   \n",
              "75%     7883.382500   7883.382500   7888.057500   7890.882500   6000.290000   \n",
              "max    15096.730000  15096.730000  15096.730000  15096.730000  20000.000000   \n",
              "\n",
              "             P(T-2)       P(T-24)       P(T-48)           Day        Season  \\\n",
              "count  23304.000000  23304.000000  23304.000000  23304.000000  23304.000000   \n",
              "mean    5058.746726   5053.714292   5048.181380      0.143194      0.988671   \n",
              "std     3135.818725   3133.813298   3131.785046      0.350278      0.789283   \n",
              "min      598.750000    598.750000    598.750000      0.000000      0.000000   \n",
              "25%     2994.965000   2994.637500   2993.872500      0.000000      0.000000   \n",
              "50%     3878.760000   3875.995000   3872.970000      0.000000      1.000000   \n",
              "75%     6000.282500   5999.212500   5990.867500      0.000000      2.000000   \n",
              "max    20000.000000  20000.000000  20000.000000      1.000000      2.000000   \n",
              "\n",
              "               L(T)  \n",
              "count  23304.000000  \n",
              "mean    6599.482203  \n",
              "std     2012.563564  \n",
              "min     1229.180000  \n",
              "25%     5134.032500  \n",
              "50%     6355.980000  \n",
              "75%     7883.382500  \n",
              "max    15096.730000  "
            ],
            "text/html": [
              "\n",
              "  <div id=\"df-1bec86b1-b7dc-446e-9485-311a75c62542\" class=\"colab-df-container\">\n",
              "    <div>\n",
              "<style scoped>\n",
              "    .dataframe tbody tr th:only-of-type {\n",
              "        vertical-align: middle;\n",
              "    }\n",
              "\n",
              "    .dataframe tbody tr th {\n",
              "        vertical-align: top;\n",
              "    }\n",
              "\n",
              "    .dataframe thead th {\n",
              "        text-align: right;\n",
              "    }\n",
              "</style>\n",
              "<table border=\"1\" class=\"dataframe\">\n",
              "  <thead>\n",
              "    <tr style=\"text-align: right;\">\n",
              "      <th></th>\n",
              "      <th>L(T-1)</th>\n",
              "      <th>L(T-2)</th>\n",
              "      <th>L(T-24)</th>\n",
              "      <th>L(T-48)</th>\n",
              "      <th>P(T-1)</th>\n",
              "      <th>P(T-2)</th>\n",
              "      <th>P(T-24)</th>\n",
              "      <th>P(T-48)</th>\n",
              "      <th>Day</th>\n",
              "      <th>Season</th>\n",
              "      <th>L(T)</th>\n",
              "    </tr>\n",
              "  </thead>\n",
              "  <tbody>\n",
              "    <tr>\n",
              "      <th>count</th>\n",
              "      <td>23304.000000</td>\n",
              "      <td>23304.000000</td>\n",
              "      <td>23304.000000</td>\n",
              "      <td>23304.000000</td>\n",
              "      <td>23304.000000</td>\n",
              "      <td>23304.000000</td>\n",
              "      <td>23304.000000</td>\n",
              "      <td>23304.000000</td>\n",
              "      <td>23304.000000</td>\n",
              "      <td>23304.000000</td>\n",
              "      <td>23304.000000</td>\n",
              "    </tr>\n",
              "    <tr>\n",
              "      <th>mean</th>\n",
              "      <td>6599.603310</td>\n",
              "      <td>6599.702593</td>\n",
              "      <td>6603.358441</td>\n",
              "      <td>6605.967243</td>\n",
              "      <td>5059.075687</td>\n",
              "      <td>5058.746726</td>\n",
              "      <td>5053.714292</td>\n",
              "      <td>5048.181380</td>\n",
              "      <td>0.143194</td>\n",
              "      <td>0.988671</td>\n",
              "      <td>6599.482203</td>\n",
              "    </tr>\n",
              "    <tr>\n",
              "      <th>std</th>\n",
              "      <td>2012.373466</td>\n",
              "      <td>2012.203412</td>\n",
              "      <td>2011.188930</td>\n",
              "      <td>2010.564244</td>\n",
              "      <td>3135.934965</td>\n",
              "      <td>3135.818725</td>\n",
              "      <td>3133.813298</td>\n",
              "      <td>3131.785046</td>\n",
              "      <td>0.350278</td>\n",
              "      <td>0.789283</td>\n",
              "      <td>2012.563564</td>\n",
              "    </tr>\n",
              "    <tr>\n",
              "      <th>min</th>\n",
              "      <td>1229.180000</td>\n",
              "      <td>1229.180000</td>\n",
              "      <td>1229.180000</td>\n",
              "      <td>1229.180000</td>\n",
              "      <td>598.750000</td>\n",
              "      <td>598.750000</td>\n",
              "      <td>598.750000</td>\n",
              "      <td>598.750000</td>\n",
              "      <td>0.000000</td>\n",
              "      <td>0.000000</td>\n",
              "      <td>1229.180000</td>\n",
              "    </tr>\n",
              "    <tr>\n",
              "      <th>25%</th>\n",
              "      <td>5134.032500</td>\n",
              "      <td>5134.032500</td>\n",
              "      <td>5137.087500</td>\n",
              "      <td>5139.557500</td>\n",
              "      <td>2995.015000</td>\n",
              "      <td>2994.965000</td>\n",
              "      <td>2994.637500</td>\n",
              "      <td>2993.872500</td>\n",
              "      <td>0.000000</td>\n",
              "      <td>0.000000</td>\n",
              "      <td>5134.032500</td>\n",
              "    </tr>\n",
              "    <tr>\n",
              "      <th>50%</th>\n",
              "      <td>6355.980000</td>\n",
              "      <td>6355.980000</td>\n",
              "      <td>6359.210000</td>\n",
              "      <td>6362.490000</td>\n",
              "      <td>3879.070000</td>\n",
              "      <td>3878.760000</td>\n",
              "      <td>3875.995000</td>\n",
              "      <td>3872.970000</td>\n",
              "      <td>0.000000</td>\n",
              "      <td>1.000000</td>\n",
              "      <td>6355.980000</td>\n",
              "    </tr>\n",
              "    <tr>\n",
              "      <th>75%</th>\n",
              "      <td>7883.382500</td>\n",
              "      <td>7883.382500</td>\n",
              "      <td>7888.057500</td>\n",
              "      <td>7890.882500</td>\n",
              "      <td>6000.290000</td>\n",
              "      <td>6000.282500</td>\n",
              "      <td>5999.212500</td>\n",
              "      <td>5990.867500</td>\n",
              "      <td>0.000000</td>\n",
              "      <td>2.000000</td>\n",
              "      <td>7883.382500</td>\n",
              "    </tr>\n",
              "    <tr>\n",
              "      <th>max</th>\n",
              "      <td>15096.730000</td>\n",
              "      <td>15096.730000</td>\n",
              "      <td>15096.730000</td>\n",
              "      <td>15096.730000</td>\n",
              "      <td>20000.000000</td>\n",
              "      <td>20000.000000</td>\n",
              "      <td>20000.000000</td>\n",
              "      <td>20000.000000</td>\n",
              "      <td>1.000000</td>\n",
              "      <td>2.000000</td>\n",
              "      <td>15096.730000</td>\n",
              "    </tr>\n",
              "  </tbody>\n",
              "</table>\n",
              "</div>\n",
              "    <div class=\"colab-df-buttons\">\n",
              "\n",
              "  <div class=\"colab-df-container\">\n",
              "    <button class=\"colab-df-convert\" onclick=\"convertToInteractive('df-1bec86b1-b7dc-446e-9485-311a75c62542')\"\n",
              "            title=\"Convert this dataframe to an interactive table.\"\n",
              "            style=\"display:none;\">\n",
              "\n",
              "  <svg xmlns=\"http://www.w3.org/2000/svg\" height=\"24px\" viewBox=\"0 -960 960 960\">\n",
              "    <path d=\"M120-120v-720h720v720H120Zm60-500h600v-160H180v160Zm220 220h160v-160H400v160Zm0 220h160v-160H400v160ZM180-400h160v-160H180v160Zm440 0h160v-160H620v160ZM180-180h160v-160H180v160Zm440 0h160v-160H620v160Z\"/>\n",
              "  </svg>\n",
              "    </button>\n",
              "\n",
              "  <style>\n",
              "    .colab-df-container {\n",
              "      display:flex;\n",
              "      gap: 12px;\n",
              "    }\n",
              "\n",
              "    .colab-df-convert {\n",
              "      background-color: #E8F0FE;\n",
              "      border: none;\n",
              "      border-radius: 50%;\n",
              "      cursor: pointer;\n",
              "      display: none;\n",
              "      fill: #1967D2;\n",
              "      height: 32px;\n",
              "      padding: 0 0 0 0;\n",
              "      width: 32px;\n",
              "    }\n",
              "\n",
              "    .colab-df-convert:hover {\n",
              "      background-color: #E2EBFA;\n",
              "      box-shadow: 0px 1px 2px rgba(60, 64, 67, 0.3), 0px 1px 3px 1px rgba(60, 64, 67, 0.15);\n",
              "      fill: #174EA6;\n",
              "    }\n",
              "\n",
              "    .colab-df-buttons div {\n",
              "      margin-bottom: 4px;\n",
              "    }\n",
              "\n",
              "    [theme=dark] .colab-df-convert {\n",
              "      background-color: #3B4455;\n",
              "      fill: #D2E3FC;\n",
              "    }\n",
              "\n",
              "    [theme=dark] .colab-df-convert:hover {\n",
              "      background-color: #434B5C;\n",
              "      box-shadow: 0px 1px 3px 1px rgba(0, 0, 0, 0.15);\n",
              "      filter: drop-shadow(0px 1px 2px rgba(0, 0, 0, 0.3));\n",
              "      fill: #FFFFFF;\n",
              "    }\n",
              "  </style>\n",
              "\n",
              "    <script>\n",
              "      const buttonEl =\n",
              "        document.querySelector('#df-1bec86b1-b7dc-446e-9485-311a75c62542 button.colab-df-convert');\n",
              "      buttonEl.style.display =\n",
              "        google.colab.kernel.accessAllowed ? 'block' : 'none';\n",
              "\n",
              "      async function convertToInteractive(key) {\n",
              "        const element = document.querySelector('#df-1bec86b1-b7dc-446e-9485-311a75c62542');\n",
              "        const dataTable =\n",
              "          await google.colab.kernel.invokeFunction('convertToInteractive',\n",
              "                                                    [key], {});\n",
              "        if (!dataTable) return;\n",
              "\n",
              "        const docLinkHtml = 'Like what you see? Visit the ' +\n",
              "          '<a target=\"_blank\" href=https://colab.research.google.com/notebooks/data_table.ipynb>data table notebook</a>'\n",
              "          + ' to learn more about interactive tables.';\n",
              "        element.innerHTML = '';\n",
              "        dataTable['output_type'] = 'display_data';\n",
              "        await google.colab.output.renderOutput(dataTable, element);\n",
              "        const docLink = document.createElement('div');\n",
              "        docLink.innerHTML = docLinkHtml;\n",
              "        element.appendChild(docLink);\n",
              "      }\n",
              "    </script>\n",
              "  </div>\n",
              "\n",
              "\n",
              "<div id=\"df-a117054b-30c4-4b71-8e5b-2f75cd8d55fb\">\n",
              "  <button class=\"colab-df-quickchart\" onclick=\"quickchart('df-a117054b-30c4-4b71-8e5b-2f75cd8d55fb')\"\n",
              "            title=\"Suggest charts\"\n",
              "            style=\"display:none;\">\n",
              "\n",
              "<svg xmlns=\"http://www.w3.org/2000/svg\" height=\"24px\"viewBox=\"0 0 24 24\"\n",
              "     width=\"24px\">\n",
              "    <g>\n",
              "        <path d=\"M19 3H5c-1.1 0-2 .9-2 2v14c0 1.1.9 2 2 2h14c1.1 0 2-.9 2-2V5c0-1.1-.9-2-2-2zM9 17H7v-7h2v7zm4 0h-2V7h2v10zm4 0h-2v-4h2v4z\"/>\n",
              "    </g>\n",
              "</svg>\n",
              "  </button>\n",
              "\n",
              "<style>\n",
              "  .colab-df-quickchart {\n",
              "      --bg-color: #E8F0FE;\n",
              "      --fill-color: #1967D2;\n",
              "      --hover-bg-color: #E2EBFA;\n",
              "      --hover-fill-color: #174EA6;\n",
              "      --disabled-fill-color: #AAA;\n",
              "      --disabled-bg-color: #DDD;\n",
              "  }\n",
              "\n",
              "  [theme=dark] .colab-df-quickchart {\n",
              "      --bg-color: #3B4455;\n",
              "      --fill-color: #D2E3FC;\n",
              "      --hover-bg-color: #434B5C;\n",
              "      --hover-fill-color: #FFFFFF;\n",
              "      --disabled-bg-color: #3B4455;\n",
              "      --disabled-fill-color: #666;\n",
              "  }\n",
              "\n",
              "  .colab-df-quickchart {\n",
              "    background-color: var(--bg-color);\n",
              "    border: none;\n",
              "    border-radius: 50%;\n",
              "    cursor: pointer;\n",
              "    display: none;\n",
              "    fill: var(--fill-color);\n",
              "    height: 32px;\n",
              "    padding: 0;\n",
              "    width: 32px;\n",
              "  }\n",
              "\n",
              "  .colab-df-quickchart:hover {\n",
              "    background-color: var(--hover-bg-color);\n",
              "    box-shadow: 0 1px 2px rgba(60, 64, 67, 0.3), 0 1px 3px 1px rgba(60, 64, 67, 0.15);\n",
              "    fill: var(--button-hover-fill-color);\n",
              "  }\n",
              "\n",
              "  .colab-df-quickchart-complete:disabled,\n",
              "  .colab-df-quickchart-complete:disabled:hover {\n",
              "    background-color: var(--disabled-bg-color);\n",
              "    fill: var(--disabled-fill-color);\n",
              "    box-shadow: none;\n",
              "  }\n",
              "\n",
              "  .colab-df-spinner {\n",
              "    border: 2px solid var(--fill-color);\n",
              "    border-color: transparent;\n",
              "    border-bottom-color: var(--fill-color);\n",
              "    animation:\n",
              "      spin 1s steps(1) infinite;\n",
              "  }\n",
              "\n",
              "  @keyframes spin {\n",
              "    0% {\n",
              "      border-color: transparent;\n",
              "      border-bottom-color: var(--fill-color);\n",
              "      border-left-color: var(--fill-color);\n",
              "    }\n",
              "    20% {\n",
              "      border-color: transparent;\n",
              "      border-left-color: var(--fill-color);\n",
              "      border-top-color: var(--fill-color);\n",
              "    }\n",
              "    30% {\n",
              "      border-color: transparent;\n",
              "      border-left-color: var(--fill-color);\n",
              "      border-top-color: var(--fill-color);\n",
              "      border-right-color: var(--fill-color);\n",
              "    }\n",
              "    40% {\n",
              "      border-color: transparent;\n",
              "      border-right-color: var(--fill-color);\n",
              "      border-top-color: var(--fill-color);\n",
              "    }\n",
              "    60% {\n",
              "      border-color: transparent;\n",
              "      border-right-color: var(--fill-color);\n",
              "    }\n",
              "    80% {\n",
              "      border-color: transparent;\n",
              "      border-right-color: var(--fill-color);\n",
              "      border-bottom-color: var(--fill-color);\n",
              "    }\n",
              "    90% {\n",
              "      border-color: transparent;\n",
              "      border-bottom-color: var(--fill-color);\n",
              "    }\n",
              "  }\n",
              "</style>\n",
              "\n",
              "  <script>\n",
              "    async function quickchart(key) {\n",
              "      const quickchartButtonEl =\n",
              "        document.querySelector('#' + key + ' button');\n",
              "      quickchartButtonEl.disabled = true;  // To prevent multiple clicks.\n",
              "      quickchartButtonEl.classList.add('colab-df-spinner');\n",
              "      try {\n",
              "        const charts = await google.colab.kernel.invokeFunction(\n",
              "            'suggestCharts', [key], {});\n",
              "      } catch (error) {\n",
              "        console.error('Error during call to suggestCharts:', error);\n",
              "      }\n",
              "      quickchartButtonEl.classList.remove('colab-df-spinner');\n",
              "      quickchartButtonEl.classList.add('colab-df-quickchart-complete');\n",
              "    }\n",
              "    (() => {\n",
              "      let quickchartButtonEl =\n",
              "        document.querySelector('#df-a117054b-30c4-4b71-8e5b-2f75cd8d55fb button');\n",
              "      quickchartButtonEl.style.display =\n",
              "        google.colab.kernel.accessAllowed ? 'block' : 'none';\n",
              "    })();\n",
              "  </script>\n",
              "</div>\n",
              "\n",
              "    </div>\n",
              "  </div>\n"
            ],
            "application/vnd.google.colaboratory.intrinsic+json": {
              "type": "dataframe",
              "summary": "{\n  \"name\": \"load_data\",\n  \"rows\": 8,\n  \"fields\": [\n    {\n      \"column\": \"L(T-1)\",\n      \"properties\": {\n        \"dtype\": \"number\",\n        \"std\": 7343.8912115100275,\n        \"min\": 1229.18,\n        \"max\": 23304.0,\n        \"num_unique_values\": 8,\n        \"samples\": [\n          6599.603310161346,\n          6355.98,\n          23304.0\n        ],\n        \"semantic_type\": \"\",\n        \"description\": \"\"\n      }\n    },\n    {\n      \"column\": \"L(T-2)\",\n      \"properties\": {\n        \"dtype\": \"number\",\n        \"std\": 7343.908936382233,\n        \"min\": 1229.18,\n        \"max\": 23304.0,\n        \"num_unique_values\": 8,\n        \"samples\": [\n          6599.70259268795,\n          6355.98,\n          23304.0\n        ],\n        \"semantic_type\": \"\",\n        \"description\": \"\"\n      }\n    },\n    {\n      \"column\": \"L(T-24)\",\n      \"properties\": {\n        \"dtype\": \"number\",\n        \"std\": 7343.524045679043,\n        \"min\": 1229.18,\n        \"max\": 23304.0,\n        \"num_unique_values\": 8,\n        \"samples\": [\n          6603.358440611054,\n          6359.21,\n          23304.0\n        ],\n        \"semantic_type\": \"\",\n        \"description\": \"\"\n      }\n    },\n    {\n      \"column\": \"L(T-48)\",\n      \"properties\": {\n        \"dtype\": \"number\",\n        \"std\": 7343.184527035753,\n        \"min\": 1229.18,\n        \"max\": 23304.0,\n        \"num_unique_values\": 8,\n        \"samples\": [\n          6605.967243391692,\n          6362.49,\n          23304.0\n        ],\n        \"semantic_type\": \"\",\n        \"description\": \"\"\n      }\n    },\n    {\n      \"column\": \"P(T-1)\",\n      \"properties\": {\n        \"dtype\": \"number\",\n        \"std\": 8545.773642780534,\n        \"min\": 598.75,\n        \"max\": 23304.0,\n        \"num_unique_values\": 8,\n        \"samples\": [\n          5059.0756870065225,\n          3879.0699999999997,\n          23304.0\n        ],\n        \"semantic_type\": \"\",\n        \"description\": \"\"\n      }\n    },\n    {\n      \"column\": \"P(T-2)\",\n      \"properties\": {\n        \"dtype\": \"number\",\n        \"std\": 8545.826708313645,\n        \"min\": 598.75,\n        \"max\": 23304.0,\n        \"num_unique_values\": 8,\n        \"samples\": [\n          5058.746725883968,\n          3878.76,\n          23304.0\n        ],\n        \"semantic_type\": \"\",\n        \"description\": \"\"\n      }\n    },\n    {\n      \"column\": \"P(T-24)\",\n      \"properties\": {\n        \"dtype\": \"number\",\n        \"std\": 8546.513760798678,\n        \"min\": 598.75,\n        \"max\": 23304.0,\n        \"num_unique_values\": 8,\n        \"samples\": [\n          5053.7142923961555,\n          3875.995,\n          23304.0\n        ],\n        \"semantic_type\": \"\",\n        \"description\": \"\"\n      }\n    },\n    {\n      \"column\": \"P(T-48)\",\n      \"properties\": {\n        \"dtype\": \"number\",\n        \"std\": 8547.542837428618,\n        \"min\": 598.75,\n        \"max\": 23304.0,\n        \"num_unique_values\": 8,\n        \"samples\": [\n          5048.181380449709,\n          3872.9700000000003,\n          23304.0\n        ],\n        \"semantic_type\": \"\",\n        \"description\": \"\"\n      }\n    },\n    {\n      \"column\": \"Day\",\n      \"properties\": {\n        \"dtype\": \"number\",\n        \"std\": 8239.132789771593,\n        \"min\": 0.0,\n        \"max\": 23304.0,\n        \"num_unique_values\": 5,\n        \"samples\": [\n          0.14319430140748368,\n          1.0,\n          0.3502784013125734\n        ],\n        \"semantic_type\": \"\",\n        \"description\": \"\"\n      }\n    },\n    {\n      \"column\": \"Season\",\n      \"properties\": {\n        \"dtype\": \"number\",\n        \"std\": 8238.865910999815,\n        \"min\": 0.0,\n        \"max\": 23304.0,\n        \"num_unique_values\": 6,\n        \"samples\": [\n          23304.0,\n          0.9886714727085479,\n          2.0\n        ],\n        \"semantic_type\": \"\",\n        \"description\": \"\"\n      }\n    },\n    {\n      \"column\": \"L(T)\",\n      \"properties\": {\n        \"dtype\": \"number\",\n        \"std\": 7343.8717630785395,\n        \"min\": 1229.18,\n        \"max\": 23304.0,\n        \"num_unique_values\": 8,\n        \"samples\": [\n          6599.482203484381,\n          6355.98,\n          23304.0\n        ],\n        \"semantic_type\": \"\",\n        \"description\": \"\"\n      }\n    }\n  ]\n}"
            }
          },
          "metadata": {},
          "execution_count": 33
        }
      ]
    },
    {
      "cell_type": "markdown",
      "source": [
        "# Missing Value Treatment"
      ],
      "metadata": {
        "id": "i1kcNRsW5V87"
      }
    },
    {
      "cell_type": "code",
      "source": [
        "load_data.isnull().any()"
      ],
      "metadata": {
        "colab": {
          "base_uri": "https://localhost:8080/"
        },
        "id": "9CiBWSQz5Mym",
        "outputId": "57cf4a90-ad77-44fc-a16e-af1146ebc370"
      },
      "execution_count": 34,
      "outputs": [
        {
          "output_type": "execute_result",
          "data": {
            "text/plain": [
              "L(T-1)     False\n",
              "L(T-2)     False\n",
              "L(T-24)    False\n",
              "L(T-48)    False\n",
              "P(T-1)     False\n",
              "P(T-2)     False\n",
              "P(T-24)    False\n",
              "P(T-48)    False\n",
              "Day        False\n",
              "Season     False\n",
              "L(T)       False\n",
              "dtype: bool"
            ]
          },
          "metadata": {},
          "execution_count": 34
        }
      ]
    },
    {
      "cell_type": "code",
      "source": [
        "load_data.isnull().sum()"
      ],
      "metadata": {
        "colab": {
          "base_uri": "https://localhost:8080/"
        },
        "id": "f7lnrnFm5d0d",
        "outputId": "ee96f4f9-8966-48fd-f616-af9fe46b2f4f"
      },
      "execution_count": 35,
      "outputs": [
        {
          "output_type": "execute_result",
          "data": {
            "text/plain": [
              "L(T-1)     0\n",
              "L(T-2)     0\n",
              "L(T-24)    0\n",
              "L(T-48)    0\n",
              "P(T-1)     0\n",
              "P(T-2)     0\n",
              "P(T-24)    0\n",
              "P(T-48)    0\n",
              "Day        0\n",
              "Season     0\n",
              "L(T)       0\n",
              "dtype: int64"
            ]
          },
          "metadata": {},
          "execution_count": 35
        }
      ]
    },
    {
      "cell_type": "code",
      "source": [
        "load_data = load_data.fillna(method='ffill')"
      ],
      "metadata": {
        "id": "hywiN4pL5gVe"
      },
      "execution_count": 36,
      "outputs": []
    },
    {
      "cell_type": "markdown",
      "source": [
        "#Outliers"
      ],
      "metadata": {
        "id": "mGTu7D7R5oMz"
      }
    },
    {
      "cell_type": "code",
      "source": [
        "# Creating plot\n",
        "plt.boxplot(load_data)\n",
        "\n",
        "# show plot\n",
        "plt.show()"
      ],
      "metadata": {
        "colab": {
          "base_uri": "https://localhost:8080/",
          "height": 430
        },
        "id": "TmtoVf1_5l-q",
        "outputId": "e5572b05-d5c4-4dcb-ab8b-d731ac43dc3e"
      },
      "execution_count": 37,
      "outputs": [
        {
          "output_type": "display_data",
          "data": {
            "text/plain": [
              "<Figure size 640x480 with 1 Axes>"
            ],
            "image/png": "[encoded data removed]"
          },
          "metadata": {}
        }
      ]
    },
    {
      "cell_type": "code",
      "source": [
        "def detect_outliers_zscore(data):\n",
        "    outliers = []\n",
        "    thres = 3\n",
        "    mean = np.mean(data)\n",
        "    std = np.std(data)\n",
        "    #print(mean, std)\n",
        "    for i in data:\n",
        "        #print(i)\n",
        "        z_score = (i-mean)/std\n",
        "        if (np.abs(z_score) > thres):\n",
        "            outliers.append(i)\n",
        "    return outliers# Driver code"
      ],
      "metadata": {
        "id": "XoponFgr52fT"
      },
      "execution_count": 38,
      "outputs": []
    },
    {
      "cell_type": "code",
      "source": [
        "sample_outliers_LT1 = detect_outliers_zscore(load_data['L(T-1)'])\n",
        "print(\"Outliers in L(T-1) column from Z-scores method: \", sample_outliers_LT1)\n",
        "sample_outliers_LT2 = detect_outliers_zscore(load_data['L(T-2)'])\n",
        "print(\"Outliers in L(T-2) column from Z-scores method: \", sample_outliers_LT2)\n",
        "sample_outliers_LT24 = detect_outliers_zscore(load_data['L(T-24)'])\n",
        "print(\"Outliers in L(T-24) column from Z-scores method: \", sample_outliers_LT24)\n",
        "sample_outliers_LT48 = detect_outliers_zscore(load_data['L(T-48)'])\n",
        "print(\"Outliers in L(T-48) column from Z-scores method: \", sample_outliers_LT48)\n",
        "\n",
        "sample_outliers_PT1 = detect_outliers_zscore(load_data['P(T-1)'])\n",
        "print(\"Outliers in P(T-1) column from Z-scores method: \", sample_outliers_PT1)\n",
        "sample_outliers_PT2 = detect_outliers_zscore(load_data['P(T-2)'])\n",
        "print(\"Outliers in P(T-2) column from Z-scores method: \", sample_outliers_PT2)\n",
        "sample_outliers_PT24 = detect_outliers_zscore(load_data['P(T-24)'])\n",
        "print(\"Outliers in P(T-24) column from Z-scores method: \", sample_outliers_PT24)\n",
        "sample_outliers_PT48 = detect_outliers_zscore(load_data['P(T-48)'])\n",
        "print(\"Outliers in P(T-48) column from Z-scores method: \", sample_outliers_PT48)\n",
        "\n",
        "\n",
        "sample_outliers_day = detect_outliers_zscore(load_data['Day'])\n",
        "print(\"Outliers in day column from Z-scores method: \", sample_outliers_day)\n",
        "sample_outliers_season = detect_outliers_zscore(load_data['Season'])\n",
        "print(\"Outliers in season column from Z-scores method: \", sample_outliers_season)\n",
        "sample_outliers_LT = detect_outliers_zscore(load_data['L(T)'])\n",
        "print(\"Outliers in L(T) column from Z-scores method: \", sample_outliers_LT)"
      ],
      "metadata": {
        "colab": {
          "base_uri": "https://localhost:8080/"
        },
        "id": "zu-z4UEx6H3w",
        "outputId": "28e41550-867c-4c21-af47-a7b68836f5e5"
      },
      "execution_count": 39,
      "outputs": [
        {
          "output_type": "stream",
          "name": "stdout",
          "text": [
            "Outliers in L(T-1) column from Z-scores method:  [12728.33, 12720.2, 12780.82, 12749.8, 12954.48, 13320.7, 12810.97, 12787.55, 12757.33, 12656.68, 13097.08, 14322.58, 15096.73, 13406.58, 13504.18, 13601.4, 12754.43, 12863.05, 12866.85, 14159.15, 14053.95, 13155.58, 12835.0, 12872.38, 12664.95, 12867.35, 12986.71, 12805.41, 12698.22, 12929.78, 12948.2, 13333.98, 12900.9, 13241.95, 12715.88, 12921.48, 12699.22, 13091.42, 12665.86, 12821.43, 12660.9, 12829.8, 12905.7, 12834.05, 12996.92, 13223.73, 13283.27, 12806.7, 12889.42, 12828.34, 12712.31, 12934.43, 13057.85, 13493.35, 13530.63, 13213.85, 12807.16, 13043.58, 12781.2, 13238.55, 14371.15, 12938.3, 13093.52, 12891.55]\n",
            "Outliers in L(T-2) column from Z-scores method:  [12728.33, 12720.2, 12780.82, 12749.8, 12954.48, 13320.7, 12810.97, 12787.55, 12757.33, 12656.68, 13097.08, 14322.58, 15096.73, 13406.58, 13504.18, 13601.4, 12754.43, 12863.05, 12866.85, 14159.15, 14053.95, 13155.58, 12835.0, 12872.38, 12664.95, 12867.35, 12986.71, 12805.41, 12698.22, 12929.78, 12948.2, 13333.98, 12900.9, 13241.95, 12715.88, 12921.48, 12699.22, 13091.42, 12665.86, 12821.43, 12660.9, 12829.8, 12905.7, 12834.05, 12996.92, 13223.73, 13283.27, 12806.7, 12889.42, 12828.34, 12712.31, 12934.43, 13057.85, 13493.35, 13530.63, 13213.85, 12807.16, 13043.58, 12781.2, 13238.55, 14371.15, 12938.3, 13093.52, 12891.55]\n",
            "Outliers in L(T-24) column from Z-scores method:  [12728.33, 12720.2, 12780.82, 12749.8, 12954.48, 13320.7, 12810.97, 12787.55, 12757.33, 12656.68, 13097.08, 14322.58, 15096.73, 13406.58, 13504.18, 13601.4, 12754.43, 12863.05, 12866.85, 14159.15, 14053.95, 13155.58, 12835.0, 12872.38, 12664.95, 12867.35, 12986.71, 12805.41, 12698.22, 12929.78, 12948.2, 13333.98, 12900.9, 13241.95, 12715.88, 12921.48, 12699.22, 13091.42, 12665.86, 12821.43, 12660.9, 12829.8, 12905.7, 12834.05, 12996.92, 13223.73, 13283.27, 12806.7, 12889.42, 12828.34, 12712.31, 12934.43, 13057.85, 13493.35, 13530.63, 13213.85, 12807.16, 13043.58, 12781.2, 13238.55, 14371.15, 12938.3, 13093.52, 12891.55]\n",
            "Outliers in L(T-48) column from Z-scores method:  [12728.33, 12720.2, 12780.82, 12749.8, 12954.48, 13320.7, 12810.97, 12787.55, 12757.33, 12656.68, 13097.08, 14322.58, 15096.73, 13406.58, 13504.18, 13601.4, 12754.43, 12863.05, 12866.85, 14159.15, 14053.95, 13155.58, 12835.0, 12872.38, 12664.95, 12867.35, 12986.71, 12805.41, 12698.22, 12929.78, 12948.2, 13333.98, 12900.9, 13241.95, 12715.88, 12921.48, 12699.22, 13091.42, 12665.86, 12821.43, 12660.9, 12829.8, 12905.7, 12834.05, 12996.92, 13223.73, 13283.27, 12806.7, 12889.42, 12828.34, 12712.31, 12934.43, 13057.85, 13493.35, 13530.63, 13213.85, 12807.16, 13043.58, 12781.2, 13238.55, 14371.15, 12938.3, 13093.52, 12891.55]\n",
            "Outliers in P(T-1) column from Z-scores method:  [16000.72, 16000.2, 15875.45, 15500.37, 15375.57, 16801.37, 16557.04, 16520.83, 16451.14, 16320.76, 18250.52, 16694.91, 15048.83, 17634.38, 19929.9, 18020.72, 17018.03, 15751.31, 15750.69, 16000.32, 17389.26, 14641.68, 19943.25, 19951.27, 16998.5, 15098.11, 15426.31, 17593.97, 18629.51, 19999.09, 15500.6, 19999.13, 19999.23, 17000.33, 20000.0, 15249.54, 14520.22, 18750.28, 18888.65, 20000.0, 16750.69, 16000.51, 15000.33, 16000.64, 19513.91, 16733.38, 19825.56, 20000.0, 20000.0, 20000.0, 15750.06, 16000.38, 16000.43, 15250.2, 17444.54, 16217.05, 20000.0, 19000.25, 20000.0, 20000.0, 19000.2, 15247.26, 15444.83, 14750.11, 15260.6, 17000.7, 17250.62, 19250.21, 19998.93, 18249.94, 17000.39, 15000.61, 17000.1, 16750.24, 18000.12, 16000.5, 15499.99, 14520.81, 14520.11, 15381.79, 17000.59, 17000.24, 15750.44, 18500.16, 19000.29, 19750.11, 20000.0, 19500.14, 18000.46, 18750.53, 19500.41, 19000.7, 20000.0, 17245.08, 18000.24, 16220.36, 15415.19, 14747.74, 16000.13, 14750.05, 17174.48, 14750.63, 16014.85, 17819.6, 20000.0, 19999.63, 15328.03, 16000.09, 15874.34, 17497.42, 15750.39, 15500.16, 16000.24, 14520.22, 18888.66, 18944.2, 19499.81, 20000.0, 20000.0, 20000.0, 20000.0, 20000.0, 20000.0, 15999.75, 17249.82, 15500.01, 16249.85, 15000.15, 17499.56, 14500.7, 15000.07, 16750.16, 15934.09, 20000.0, 20000.0, 20000.0, 20000.0, 20000.0, 17000.67, 19497.26, 17642.95, 16963.48, 15246.97, 18749.97, 20000.0, 20000.0, 20000.0, 20000.0, 18494.69, 20000.0, 20000.0, 19000.62, 17000.19, 19442.62, 20000.0, 20000.0, 20000.0, 20000.0, 20000.0, 19442.03, 18189.75, 17245.04, 18875.83, 18000.62, 17250.13, 14500.33, 15500.26, 15000.17, 18000.2, 18130.12, 19000.09, 20000.0, 19997.36, 15250.25, 15840.38, 16252.56, 16746.0, 19409.68, 19998.61, 18762.64, 15005.26, 15898.71, 15107.69, 16463.69, 17400.04, 15604.33, 15421.65, 17239.31, 15627.9, 18079.65, 18999.45, 16500.62, 17106.03, 17499.59, 19999.96, 16135.54, 15499.46, 15856.03, 15281.36, 14851.17, 17936.66, 19999.65, 19623.66, 16944.94, 19582.16, 16671.63, 15026.66, 15799.03, 15437.7, 14999.48, 15530.39, 19999.72, 20000.0, 15374.32, 15078.01, 16139.8, 15645.35, 16749.59, 19998.88, 17311.62, 16943.34, 15424.84, 16100.9, 20000.0, 20000.0, 20000.0, 18820.33, 17260.31, 18872.08, 20000.0, 20000.0, 16662.76, 15543.38, 16250.1, 16525.62, 16353.99, 16377.59, 19430.24, 19238.89, 19781.82, 19729.68, 19749.81, 20000.0, 19997.33, 20000.0, 18025.41, 19549.84, 20000.0, 18813.66, 15139.29, 14964.8, 14829.32, 15843.0, 17886.2, 20000.0, 19249.71, 18105.03, 16125.52, 16997.85, 20000.0, 19998.87, 17850.02, 15639.45, 20000.0, 18749.97, 18124.88, 20000.0, 18749.92, 16000.5, 15750.29, 14512.58, 17124.61, 16624.4, 16000.64, 14651.75, 16597.47, 18718.94, 15775.44, 15000.09, 14750.22, 15137.78, 19000.07, 19672.21, 15176.4, 18498.39, 15374.21, 14704.08, 17250.18, 15874.78, 16500.54, 16750.63, 18025.25, 17505.05, 17988.52, 20000.0, 19709.06, 16825.03, 18749.92, 19500.0, 15500.55, 16000.52, 15493.96, 15968.43, 18499.97]\n",
            "Outliers in P(T-2) column from Z-scores method:  [16000.72, 16000.2, 15875.45, 15500.37, 15375.57, 16801.37, 16557.04, 16520.83, 16451.14, 16320.76, 18250.52, 16694.91, 15048.83, 17634.38, 19929.9, 18020.72, 17018.03, 15751.31, 15750.69, 16000.32, 17389.26, 14641.68, 19943.25, 19951.27, 16998.5, 15098.11, 15426.31, 17593.97, 18629.51, 19999.09, 15500.6, 19999.13, 19999.23, 17000.33, 20000.0, 15249.54, 14520.22, 18750.28, 18888.65, 20000.0, 16750.69, 16000.51, 15000.33, 16000.64, 19513.91, 16733.38, 19825.56, 20000.0, 20000.0, 20000.0, 15750.06, 16000.38, 16000.43, 15250.2, 17444.54, 16217.05, 20000.0, 19000.25, 20000.0, 20000.0, 19000.2, 15247.26, 15444.83, 14750.11, 15260.6, 17000.7, 17250.62, 19250.21, 19998.93, 18249.94, 17000.39, 15000.61, 17000.1, 16750.24, 18000.12, 16000.5, 15499.99, 14520.81, 14520.11, 15381.79, 17000.59, 17000.24, 15750.44, 18500.16, 19000.29, 19750.11, 20000.0, 19500.14, 18000.46, 18750.53, 19500.41, 19000.7, 20000.0, 17245.08, 18000.24, 16220.36, 15415.19, 14747.74, 16000.13, 14750.05, 17174.48, 14750.63, 16014.85, 17819.6, 20000.0, 19999.63, 15328.03, 16000.09, 15874.34, 17497.42, 15750.39, 15500.16, 16000.24, 14520.22, 18888.66, 18944.2, 19499.81, 20000.0, 20000.0, 20000.0, 20000.0, 20000.0, 20000.0, 15999.75, 17249.82, 15500.01, 16249.85, 15000.15, 17499.56, 14500.7, 15000.07, 16750.16, 15934.09, 20000.0, 20000.0, 20000.0, 20000.0, 20000.0, 17000.67, 19497.26, 17642.95, 16963.48, 15246.97, 18749.97, 20000.0, 20000.0, 20000.0, 20000.0, 18494.69, 20000.0, 20000.0, 19000.62, 17000.19, 19442.62, 20000.0, 20000.0, 20000.0, 20000.0, 20000.0, 19442.03, 18189.75, 17245.04, 18875.83, 18000.62, 17250.13, 14500.33, 15500.26, 15000.17, 18000.2, 18130.12, 19000.09, 20000.0, 19997.36, 15250.25, 15840.38, 16252.56, 16746.0, 19409.68, 19998.61, 18762.64, 15005.26, 15898.71, 15107.69, 16463.69, 17400.04, 15604.33, 15421.65, 17239.31, 15627.9, 18079.65, 18999.45, 16500.62, 17106.03, 17499.59, 19999.96, 16135.54, 15499.46, 15856.03, 15281.36, 14851.17, 17936.66, 19999.65, 19623.66, 16944.94, 19582.16, 16671.63, 15026.66, 15799.03, 15437.7, 14999.48, 15530.39, 19999.72, 20000.0, 15374.32, 15078.01, 16139.8, 15645.35, 16749.59, 19998.88, 17311.62, 16943.34, 15424.84, 16100.9, 20000.0, 20000.0, 20000.0, 18820.33, 17260.31, 18872.08, 20000.0, 20000.0, 16662.76, 15543.38, 16250.1, 16525.62, 16353.99, 16377.59, 19430.24, 19238.89, 19781.82, 19729.68, 19749.81, 20000.0, 19997.33, 20000.0, 18025.41, 19549.84, 20000.0, 18813.66, 15139.29, 14964.8, 14829.32, 15843.0, 17886.2, 20000.0, 19249.71, 18105.03, 16125.52, 16997.85, 20000.0, 19998.87, 17850.02, 15639.45, 20000.0, 18749.97, 18124.88, 20000.0, 18749.92, 16000.5, 15750.29, 14512.58, 17124.61, 16624.4, 16000.64, 14651.75, 16597.47, 18718.94, 15775.44, 15000.09, 14750.22, 15137.78, 19000.07, 19672.21, 15176.4, 18498.39, 15374.21, 14704.08, 17250.18, 15874.78, 16500.54, 16750.63, 18025.25, 17505.05, 17988.52, 20000.0, 19709.06, 16825.03, 18749.92, 19500.0, 15500.55, 16000.52, 15493.96, 15968.43, 18499.97]\n",
            "Outliers in P(T-24) column from Z-scores method:  [16000.72, 16000.2, 15875.45, 15500.37, 15375.57, 16801.37, 16557.04, 16520.83, 16451.14, 16320.76, 18250.52, 16694.91, 15048.83, 17634.38, 19929.9, 18020.72, 17018.03, 15751.31, 15750.69, 16000.32, 17389.26, 14641.68, 19943.25, 19951.27, 16998.5, 15098.11, 15426.31, 17593.97, 18629.51, 19999.09, 15500.6, 19999.13, 19999.23, 17000.33, 20000.0, 15249.54, 14520.22, 18750.28, 18888.65, 20000.0, 16750.69, 16000.51, 15000.33, 16000.64, 19513.91, 16733.38, 19825.56, 20000.0, 20000.0, 20000.0, 15750.06, 16000.38, 16000.43, 15250.2, 17444.54, 16217.05, 20000.0, 19000.25, 20000.0, 20000.0, 19000.2, 15247.26, 15444.83, 14750.11, 15260.6, 17000.7, 17250.62, 19250.21, 19998.93, 18249.94, 17000.39, 15000.61, 17000.1, 16750.24, 18000.12, 16000.5, 15499.99, 14520.81, 14520.11, 15381.79, 17000.59, 17000.24, 15750.44, 18500.16, 19000.29, 19750.11, 20000.0, 19500.14, 18000.46, 18750.53, 19500.41, 19000.7, 20000.0, 17245.08, 18000.24, 16220.36, 15415.19, 14747.74, 16000.13, 14750.05, 17174.48, 14750.63, 16014.85, 17819.6, 20000.0, 19999.63, 15328.03, 16000.09, 15874.34, 17497.42, 15750.39, 15500.16, 16000.24, 14520.22, 18888.66, 18944.2, 19499.81, 20000.0, 20000.0, 20000.0, 20000.0, 20000.0, 20000.0, 15999.75, 17249.82, 15500.01, 16249.85, 15000.15, 17499.56, 14500.7, 15000.07, 16750.16, 15934.09, 20000.0, 20000.0, 20000.0, 20000.0, 20000.0, 17000.67, 19497.26, 17642.95, 16963.48, 15246.97, 18749.97, 20000.0, 20000.0, 20000.0, 20000.0, 18494.69, 20000.0, 20000.0, 19000.62, 17000.19, 19442.62, 20000.0, 20000.0, 20000.0, 20000.0, 20000.0, 19442.03, 18189.75, 17245.04, 18875.83, 18000.62, 17250.13, 14461.34, 14500.33, 15500.26, 15000.17, 18000.2, 18130.12, 19000.09, 20000.0, 19997.36, 15250.25, 15840.38, 16252.56, 16746.0, 19409.68, 19998.61, 18762.64, 15005.26, 15898.71, 15107.69, 16463.69, 17400.04, 15604.33, 15421.65, 17239.31, 15627.9, 18079.65, 18999.45, 16500.62, 17106.03, 17499.59, 19999.96, 16135.54, 15499.46, 15856.03, 15281.36, 14851.17, 17936.66, 19999.65, 19623.66, 16944.94, 19582.16, 16671.63, 15026.66, 15799.03, 15437.7, 14999.48, 15530.39, 19999.72, 20000.0, 15374.32, 15078.01, 16139.8, 15645.35, 16749.59, 19998.88, 17311.62, 16943.34, 15424.84, 16100.9, 20000.0, 20000.0, 20000.0, 18820.33, 17260.31, 18872.08, 20000.0, 20000.0, 16662.76, 15543.38, 16250.1, 16525.62, 16353.99, 16377.59, 19430.24, 19238.89, 19781.82, 19729.68, 19749.81, 20000.0, 19997.33, 20000.0, 18025.41, 19549.84, 20000.0, 18813.66, 15139.29, 14964.8, 14829.32, 15843.0, 17886.2, 20000.0, 19249.71, 18105.03, 16125.52, 16997.85, 20000.0, 19998.87, 17850.02, 15639.45, 20000.0, 18749.97, 18124.88, 20000.0, 18749.92, 16000.5, 15750.29, 14512.58, 17124.61, 16624.4, 16000.64, 14651.75, 16597.47, 18718.94, 15775.44, 15000.09, 14750.22, 15137.78, 19000.07, 19672.21, 15176.4, 18498.39, 15374.21, 14704.08, 17250.18, 15874.78, 16500.54, 16750.63, 18025.25, 17505.05, 17988.52, 20000.0, 19709.06, 16825.03, 18749.92, 19500.0, 15500.55, 16000.52, 15493.96, 15968.43, 18499.97]\n",
            "Outliers in P(T-48) column from Z-scores method:  [16000.72, 16000.2, 15875.45, 15500.37, 15375.57, 16801.37, 16557.04, 16520.83, 16451.14, 16320.76, 18250.52, 16694.91, 15048.83, 17634.38, 19929.9, 18020.72, 17018.03, 15751.31, 15750.69, 16000.32, 17389.26, 14641.68, 19943.25, 19951.27, 16998.5, 15098.11, 15426.31, 17593.97, 18629.51, 19999.09, 15500.6, 19999.13, 19999.23, 17000.33, 20000.0, 15249.54, 14520.22, 18750.28, 18888.65, 20000.0, 16750.69, 16000.51, 15000.33, 16000.64, 19513.91, 16733.38, 19825.56, 20000.0, 20000.0, 20000.0, 15750.06, 16000.38, 16000.43, 15250.2, 17444.54, 16217.05, 20000.0, 19000.25, 20000.0, 20000.0, 19000.2, 15247.26, 15444.83, 14750.11, 15260.6, 17000.7, 17250.62, 19250.21, 19998.93, 18249.94, 17000.39, 15000.61, 17000.1, 16750.24, 18000.12, 16000.5, 15499.99, 14520.81, 14520.11, 15381.79, 17000.59, 17000.24, 15750.44, 18500.16, 19000.29, 19750.11, 20000.0, 19500.14, 18000.46, 18750.53, 19500.41, 19000.7, 20000.0, 17245.08, 18000.24, 16220.36, 15415.19, 14747.74, 16000.13, 14750.05, 17174.48, 14750.63, 16014.85, 17819.6, 20000.0, 19999.63, 15328.03, 16000.09, 15874.34, 17497.42, 15750.39, 15500.16, 16000.24, 14520.22, 18888.66, 18944.2, 19499.81, 20000.0, 20000.0, 20000.0, 20000.0, 20000.0, 20000.0, 15999.75, 17249.82, 15500.01, 16249.85, 15000.15, 17499.56, 14500.7, 15000.07, 16750.16, 15934.09, 20000.0, 20000.0, 20000.0, 20000.0, 20000.0, 17000.67, 19497.26, 17642.95, 16963.48, 15246.97, 18749.97, 20000.0, 20000.0, 20000.0, 20000.0, 18494.69, 20000.0, 20000.0, 19000.62, 17000.19, 19442.62, 20000.0, 20000.0, 20000.0, 20000.0, 20000.0, 19442.03, 18189.75, 17245.04, 18875.83, 18000.62, 17250.13, 14461.34, 14500.33, 15500.26, 15000.17, 18000.2, 18130.12, 19000.09, 20000.0, 19997.36, 15250.25, 15840.38, 16252.56, 16746.0, 19409.68, 19998.61, 18762.64, 15005.26, 15898.71, 15107.69, 16463.69, 17400.04, 15604.33, 15421.65, 17239.31, 15627.9, 18079.65, 18999.45, 16500.62, 17106.03, 17499.59, 19999.96, 16135.54, 15499.46, 15856.03, 15281.36, 14851.17, 17936.66, 19999.65, 19623.66, 16944.94, 19582.16, 16671.63, 15026.66, 15799.03, 15437.7, 14999.48, 15530.39, 19999.72, 20000.0, 15374.32, 15078.01, 16139.8, 15645.35, 16749.59, 19998.88, 17311.62, 16943.34, 15424.84, 16100.9, 20000.0, 20000.0, 20000.0, 18820.33, 17260.31, 18872.08, 20000.0, 20000.0, 16662.76, 15543.38, 16250.1, 16525.62, 16353.99, 16377.59, 19430.24, 19238.89, 19781.82, 19729.68, 19749.81, 20000.0, 19997.33, 20000.0, 18025.41, 19549.84, 20000.0, 18813.66, 15139.29, 14964.8, 14829.32, 15843.0, 17886.2, 20000.0, 19249.71, 18105.03, 16125.52, 16997.85, 20000.0, 19998.87, 17850.02, 15639.45, 20000.0, 18749.97, 18124.88, 20000.0, 18749.92, 16000.5, 15750.29, 14512.58, 17124.61, 16624.4, 16000.64, 14651.75, 16597.47, 18718.94, 15775.44, 15000.09, 14750.22, 15137.78, 19000.07, 19672.21, 15176.4, 18498.39, 15374.21, 14704.08, 17250.18, 15874.78, 16500.54, 16750.63, 18025.25, 17505.05, 17988.52, 20000.0, 19709.06, 16825.03, 18749.92, 14453.83, 19500.0, 15500.55, 16000.52, 15493.96, 15968.43, 18499.97]\n",
            "Outliers in day column from Z-scores method:  []\n",
            "Outliers in season column from Z-scores method:  []\n",
            "Outliers in L(T) column from Z-scores method:  [12728.33, 12720.2, 12780.82, 12749.8, 12954.48, 13320.7, 12810.97, 12787.55, 12757.33, 12656.68, 13097.08, 14322.58, 15096.73, 13406.58, 13504.18, 13601.4, 12754.43, 12863.05, 12866.85, 14159.15, 14053.95, 13155.58, 12835.0, 12872.38, 12664.95, 12867.35, 12986.71, 12805.41, 12698.22, 12929.78, 12948.2, 13333.98, 12900.9, 13241.95, 12715.88, 12921.48, 12699.22, 13091.42, 12665.86, 12821.43, 12660.9, 12829.8, 12905.7, 12834.05, 12996.92, 13223.73, 13283.27, 12806.7, 12889.42, 12828.34, 12712.31, 12934.43, 13057.85, 13493.35, 13530.63, 13213.85, 12807.16, 13043.58, 12781.2, 13238.55, 14371.15, 12938.3, 13093.52, 12891.55]\n"
          ]
        }
      ]
    },
    {
      "cell_type": "markdown",
      "source": [
        "#Data Normalization"
      ],
      "metadata": {
        "id": "kGkcguo77W_2"
      }
    },
    {
      "cell_type": "code",
      "source": [
        "from sklearn.preprocessing import MinMaxScaler\n",
        "ms=MinMaxScaler()\n",
        "load_data_norm=ms.fit_transform(load_data)\n",
        "print(load_data_norm)"
      ],
      "metadata": {
        "colab": {
          "base_uri": "https://localhost:8080/"
        },
        "id": "cE-6hUGU7Pyp",
        "outputId": "2744ed1d-090e-4623-901a-9dba473db057"
      },
      "execution_count": 40,
      "outputs": [
        {
          "output_type": "stream",
          "name": "stdout",
          "text": [
            "[[0.2612372  0.22215532 0.29045145 ... 1.         1.         0.31553879]\n",
            " [0.31553879 0.2612372  0.3099841  ... 1.         1.         0.34494702]\n",
            " [0.34494702 0.31553879 0.33110751 ... 1.         1.         0.35581988]\n",
            " ...\n",
            " [0.04409575 0.04811016 0.09046587 ... 0.         0.         0.043971  ]\n",
            " [0.043971   0.04409575 0.08935392 ... 0.         0.         0.05531402]\n",
            " [0.05531402 0.043971   0.08745741 ... 0.         0.         0.05772108]]\n"
          ]
        }
      ]
    },
    {
      "cell_type": "markdown",
      "source": [
        "#Data Split"
      ],
      "metadata": {
        "id": "MKLpd5jI7lw0"
      }
    },
    {
      "cell_type": "code",
      "source": [
        "dataset=pd.DataFrame(data=load_data_norm[0:,0:],columns=list_of_columns)\n",
        "dataset.head()"
      ],
      "metadata": {
        "colab": {
          "base_uri": "https://localhost:8080/",
          "height": 226
        },
        "id": "IKli3BZg7kup",
        "outputId": "ee3d9039-10a1-4fc7-f5a6-7563e3a2f01f"
      },
      "execution_count": 41,
      "outputs": [
        {
          "output_type": "execute_result",
          "data": {
            "text/plain": [
              "     L(T-1)    L(T-2)   L(T-24)   L(T-48)    P(T-1)    P(T-2)   P(T-24)  \\\n",
              "0  0.261237  0.222155  0.290451  0.241234  0.088397  0.089434  0.089148   \n",
              "1  0.315539  0.261237  0.309984  0.287628  0.072525  0.088397  0.079611   \n",
              "2  0.344947  0.315539  0.331108  0.294598  0.066372  0.072525  0.073489   \n",
              "3  0.355820  0.344947  0.337608  0.305934  0.062453  0.066372  0.069270   \n",
              "4  0.366404  0.355820  0.357670  0.342189  0.062195  0.062453  0.075905   \n",
              "\n",
              "    P(T-48)  Day  Season      L(T)  \n",
              "0  0.086946  1.0     1.0  0.315539  \n",
              "1  0.077235  1.0     1.0  0.344947  \n",
              "2  0.072647  1.0     1.0  0.355820  \n",
              "3  0.072654  1.0     1.0  0.366404  \n",
              "4  0.074221  1.0     1.0  0.387736  "
            ],
            "text/html": [
              "\n",
              "  <div id=\"df-721d90ba-ce40-4681-a3e4-ecb69ab8c1c5\" class=\"colab-df-container\">\n",
              "    <div>\n",
              "<style scoped>\n",
              "    .dataframe tbody tr th:only-of-type {\n",
              "        vertical-align: middle;\n",
              "    }\n",
              "\n",
              "    .dataframe tbody tr th {\n",
              "        vertical-align: top;\n",
              "    }\n",
              "\n",
              "    .dataframe thead th {\n",
              "        text-align: right;\n",
              "    }\n",
              "</style>\n",
              "<table border=\"1\" class=\"dataframe\">\n",
              "  <thead>\n",
              "    <tr style=\"text-align: right;\">\n",
              "      <th></th>\n",
              "      <th>L(T-1)</th>\n",
              "      <th>L(T-2)</th>\n",
              "      <th>L(T-24)</th>\n",
              "      <th>L(T-48)</th>\n",
              "      <th>P(T-1)</th>\n",
              "      <th>P(T-2)</th>\n",
              "      <th>P(T-24)</th>\n",
              "      <th>P(T-48)</th>\n",
              "      <th>Day</th>\n",
              "      <th>Season</th>\n",
              "      <th>L(T)</th>\n",
              "    </tr>\n",
              "  </thead>\n",
              "  <tbody>\n",
              "    <tr>\n",
              "      <th>0</th>\n",
              "      <td>0.261237</td>\n",
              "      <td>0.222155</td>\n",
              "      <td>0.290451</td>\n",
              "      <td>0.241234</td>\n",
              "      <td>0.088397</td>\n",
              "      <td>0.089434</td>\n",
              "      <td>0.089148</td>\n",
              "      <td>0.086946</td>\n",
              "      <td>1.0</td>\n",
              "      <td>1.0</td>\n",
              "      <td>0.315539</td>\n",
              "    </tr>\n",
              "    <tr>\n",
              "      <th>1</th>\n",
              "      <td>0.315539</td>\n",
              "      <td>0.261237</td>\n",
              "      <td>0.309984</td>\n",
              "      <td>0.287628</td>\n",
              "      <td>0.072525</td>\n",
              "      <td>0.088397</td>\n",
              "      <td>0.079611</td>\n",
              "      <td>0.077235</td>\n",
              "      <td>1.0</td>\n",
              "      <td>1.0</td>\n",
              "      <td>0.344947</td>\n",
              "    </tr>\n",
              "    <tr>\n",
              "      <th>2</th>\n",
              "      <td>0.344947</td>\n",
              "      <td>0.315539</td>\n",
              "      <td>0.331108</td>\n",
              "      <td>0.294598</td>\n",
              "      <td>0.066372</td>\n",
              "      <td>0.072525</td>\n",
              "      <td>0.073489</td>\n",
              "      <td>0.072647</td>\n",
              "      <td>1.0</td>\n",
              "      <td>1.0</td>\n",
              "      <td>0.355820</td>\n",
              "    </tr>\n",
              "    <tr>\n",
              "      <th>3</th>\n",
              "      <td>0.355820</td>\n",
              "      <td>0.344947</td>\n",
              "      <td>0.337608</td>\n",
              "      <td>0.305934</td>\n",
              "      <td>0.062453</td>\n",
              "      <td>0.066372</td>\n",
              "      <td>0.069270</td>\n",
              "      <td>0.072654</td>\n",
              "      <td>1.0</td>\n",
              "      <td>1.0</td>\n",
              "      <td>0.366404</td>\n",
              "    </tr>\n",
              "    <tr>\n",
              "      <th>4</th>\n",
              "      <td>0.366404</td>\n",
              "      <td>0.355820</td>\n",
              "      <td>0.357670</td>\n",
              "      <td>0.342189</td>\n",
              "      <td>0.062195</td>\n",
              "      <td>0.062453</td>\n",
              "      <td>0.075905</td>\n",
              "      <td>0.074221</td>\n",
              "      <td>1.0</td>\n",
              "      <td>1.0</td>\n",
              "      <td>0.387736</td>\n",
              "    </tr>\n",
              "  </tbody>\n",
              "</table>\n",
              "</div>\n",
              "    <div class=\"colab-df-buttons\">\n",
              "\n",
              "  <div class=\"colab-df-container\">\n",
              "    <button class=\"colab-df-convert\" onclick=\"convertToInteractive('df-721d90ba-ce40-4681-a3e4-ecb69ab8c1c5')\"\n",
              "            title=\"Convert this dataframe to an interactive table.\"\n",
              "            style=\"display:none;\">\n",
              "\n",
              "  <svg xmlns=\"http://www.w3.org/2000/svg\" height=\"24px\" viewBox=\"0 -960 960 960\">\n",
              "    <path d=\"M120-120v-720h720v720H120Zm60-500h600v-160H180v160Zm220 220h160v-160H400v160Zm0 220h160v-160H400v160ZM180-400h160v-160H180v160Zm440 0h160v-160H620v160ZM180-180h160v-160H180v160Zm440 0h160v-160H620v160Z\"/>\n",
              "  </svg>\n",
              "    </button>\n",
              "\n",
              "  <style>\n",
              "    .colab-df-container {\n",
              "      display:flex;\n",
              "      gap: 12px;\n",
              "    }\n",
              "\n",
              "    .colab-df-convert {\n",
              "      background-color: #E8F0FE;\n",
              "      border: none;\n",
              "      border-radius: 50%;\n",
              "      cursor: pointer;\n",
              "      display: none;\n",
              "      fill: #1967D2;\n",
              "      height: 32px;\n",
              "      padding: 0 0 0 0;\n",
              "      width: 32px;\n",
              "    }\n",
              "\n",
              "    .colab-df-convert:hover {\n",
              "      background-color: #E2EBFA;\n",
              "      box-shadow: 0px 1px 2px rgba(60, 64, 67, 0.3), 0px 1px 3px 1px rgba(60, 64, 67, 0.15);\n",
              "      fill: #174EA6;\n",
              "    }\n",
              "\n",
              "    .colab-df-buttons div {\n",
              "      margin-bottom: 4px;\n",
              "    }\n",
              "\n",
              "    [theme=dark] .colab-df-convert {\n",
              "      background-color: #3B4455;\n",
              "      fill: #D2E3FC;\n",
              "    }\n",
              "\n",
              "    [theme=dark] .colab-df-convert:hover {\n",
              "      background-color: #434B5C;\n",
              "      box-shadow: 0px 1px 3px 1px rgba(0, 0, 0, 0.15);\n",
              "      filter: drop-shadow(0px 1px 2px rgba(0, 0, 0, 0.3));\n",
              "      fill: #FFFFFF;\n",
              "    }\n",
              "  </style>\n",
              "\n",
              "    <script>\n",
              "      const buttonEl =\n",
              "        document.querySelector('#df-721d90ba-ce40-4681-a3e4-ecb69ab8c1c5 button.colab-df-convert');\n",
              "      buttonEl.style.display =\n",
              "        google.colab.kernel.accessAllowed ? 'block' : 'none';\n",
              "\n",
              "      async function convertToInteractive(key) {\n",
              "        const element = document.querySelector('#df-721d90ba-ce40-4681-a3e4-ecb69ab8c1c5');\n",
              "        const dataTable =\n",
              "          await google.colab.kernel.invokeFunction('convertToInteractive',\n",
              "                                                    [key], {});\n",
              "        if (!dataTable) return;\n",
              "\n",
              "        const docLinkHtml = 'Like what you see? Visit the ' +\n",
              "          '<a target=\"_blank\" href=https://colab.research.google.com/notebooks/data_table.ipynb>data table notebook</a>'\n",
              "          + ' to learn more about interactive tables.';\n",
              "        element.innerHTML = '';\n",
              "        dataTable['output_type'] = 'display_data';\n",
              "        await google.colab.output.renderOutput(dataTable, element);\n",
              "        const docLink = document.createElement('div');\n",
              "        docLink.innerHTML = docLinkHtml;\n",
              "        element.appendChild(docLink);\n",
              "      }\n",
              "    </script>\n",
              "  </div>\n",
              "\n",
              "\n",
              "<div id=\"df-12eab380-3d3e-45d8-bb8f-dc78722fb79c\">\n",
              "  <button class=\"colab-df-quickchart\" onclick=\"quickchart('df-12eab380-3d3e-45d8-bb8f-dc78722fb79c')\"\n",
              "            title=\"Suggest charts\"\n",
              "            style=\"display:none;\">\n",
              "\n",
              "<svg xmlns=\"http://www.w3.org/2000/svg\" height=\"24px\"viewBox=\"0 0 24 24\"\n",
              "     width=\"24px\">\n",
              "    <g>\n",
              "        <path d=\"M19 3H5c-1.1 0-2 .9-2 2v14c0 1.1.9 2 2 2h14c1.1 0 2-.9 2-2V5c0-1.1-.9-2-2-2zM9 17H7v-7h2v7zm4 0h-2V7h2v10zm4 0h-2v-4h2v4z\"/>\n",
              "    </g>\n",
              "</svg>\n",
              "  </button>\n",
              "\n",
              "<style>\n",
              "  .colab-df-quickchart {\n",
              "      --bg-color: #E8F0FE;\n",
              "      --fill-color: #1967D2;\n",
              "      --hover-bg-color: #E2EBFA;\n",
              "      --hover-fill-color: #174EA6;\n",
              "      --disabled-fill-color: #AAA;\n",
              "      --disabled-bg-color: #DDD;\n",
              "  }\n",
              "\n",
              "  [theme=dark] .colab-df-quickchart {\n",
              "      --bg-color: #3B4455;\n",
              "      --fill-color: #D2E3FC;\n",
              "      --hover-bg-color: #434B5C;\n",
              "      --hover-fill-color: #FFFFFF;\n",
              "      --disabled-bg-color: #3B4455;\n",
              "      --disabled-fill-color: #666;\n",
              "  }\n",
              "\n",
              "  .colab-df-quickchart {\n",
              "    background-color: var(--bg-color);\n",
              "    border: none;\n",
              "    border-radius: 50%;\n",
              "    cursor: pointer;\n",
              "    display: none;\n",
              "    fill: var(--fill-color);\n",
              "    height: 32px;\n",
              "    padding: 0;\n",
              "    width: 32px;\n",
              "  }\n",
              "\n",
              "  .colab-df-quickchart:hover {\n",
              "    background-color: var(--hover-bg-color);\n",
              "    box-shadow: 0 1px 2px rgba(60, 64, 67, 0.3), 0 1px 3px 1px rgba(60, 64, 67, 0.15);\n",
              "    fill: var(--button-hover-fill-color);\n",
              "  }\n",
              "\n",
              "  .colab-df-quickchart-complete:disabled,\n",
              "  .colab-df-quickchart-complete:disabled:hover {\n",
              "    background-color: var(--disabled-bg-color);\n",
              "    fill: var(--disabled-fill-color);\n",
              "    box-shadow: none;\n",
              "  }\n",
              "\n",
              "  .colab-df-spinner {\n",
              "    border: 2px solid var(--fill-color);\n",
              "    border-color: transparent;\n",
              "    border-bottom-color: var(--fill-color);\n",
              "    animation:\n",
              "      spin 1s steps(1) infinite;\n",
              "  }\n",
              "\n",
              "  @keyframes spin {\n",
              "    0% {\n",
              "      border-color: transparent;\n",
              "      border-bottom-color: var(--fill-color);\n",
              "      border-left-color: var(--fill-color);\n",
              "    }\n",
              "    20% {\n",
              "      border-color: transparent;\n",
              "      border-left-color: var(--fill-color);\n",
              "      border-top-color: var(--fill-color);\n",
              "    }\n",
              "    30% {\n",
              "      border-color: transparent;\n",
              "      border-left-color: var(--fill-color);\n",
              "      border-top-color: var(--fill-color);\n",
              "      border-right-color: var(--fill-color);\n",
              "    }\n",
              "    40% {\n",
              "      border-color: transparent;\n",
              "      border-right-color: var(--fill-color);\n",
              "      border-top-color: var(--fill-color);\n",
              "    }\n",
              "    60% {\n",
              "      border-color: transparent;\n",
              "      border-right-color: var(--fill-color);\n",
              "    }\n",
              "    80% {\n",
              "      border-color: transparent;\n",
              "      border-right-color: var(--fill-color);\n",
              "      border-bottom-color: var(--fill-color);\n",
              "    }\n",
              "    90% {\n",
              "      border-color: transparent;\n",
              "      border-bottom-color: var(--fill-color);\n",
              "    }\n",
              "  }\n",
              "</style>\n",
              "\n",
              "  <script>\n",
              "    async function quickchart(key) {\n",
              "      const quickchartButtonEl =\n",
              "        document.querySelector('#' + key + ' button');\n",
              "      quickchartButtonEl.disabled = true;  // To prevent multiple clicks.\n",
              "      quickchartButtonEl.classList.add('colab-df-spinner');\n",
              "      try {\n",
              "        const charts = await google.colab.kernel.invokeFunction(\n",
              "            'suggestCharts', [key], {});\n",
              "      } catch (error) {\n",
              "        console.error('Error during call to suggestCharts:', error);\n",
              "      }\n",
              "      quickchartButtonEl.classList.remove('colab-df-spinner');\n",
              "      quickchartButtonEl.classList.add('colab-df-quickchart-complete');\n",
              "    }\n",
              "    (() => {\n",
              "      let quickchartButtonEl =\n",
              "        document.querySelector('#df-12eab380-3d3e-45d8-bb8f-dc78722fb79c button');\n",
              "      quickchartButtonEl.style.display =\n",
              "        google.colab.kernel.accessAllowed ? 'block' : 'none';\n",
              "    })();\n",
              "  </script>\n",
              "</div>\n",
              "\n",
              "    </div>\n",
              "  </div>\n"
            ],
            "application/vnd.google.colaboratory.intrinsic+json": {
              "type": "dataframe",
              "variable_name": "dataset",
              "summary": "{\n  \"name\": \"dataset\",\n  \"rows\": 23304,\n  \"fields\": [\n    {\n      \"column\": \"L(T-1)\",\n      \"properties\": {\n        \"dtype\": \"number\",\n        \"std\": 0.1451138424710016,\n        \"min\": 0.0,\n        \"max\": 1.0,\n        \"num_unique_values\": 22755,\n        \"samples\": [\n          0.29759258124182,\n          0.2964287130747681,\n          0.5147773038496346\n        ],\n        \"semantic_type\": \"\",\n        \"description\": \"\"\n      }\n    },\n    {\n      \"column\": \"L(T-2)\",\n      \"properties\": {\n        \"dtype\": \"number\",\n        \"std\": 0.14510157972592513,\n        \"min\": 0.0,\n        \"max\": 1.0,\n        \"num_unique_values\": 22755,\n        \"samples\": [\n          0.31332931916596657,\n          0.33114933784266143,\n          0.5759323023893912\n        ],\n        \"semantic_type\": \"\",\n        \"description\": \"\"\n      }\n    },\n    {\n      \"column\": \"L(T-24)\",\n      \"properties\": {\n        \"dtype\": \"number\",\n        \"std\": 0.14502842465414592,\n        \"min\": 0.0,\n        \"max\": 1.0,\n        \"num_unique_values\": 22753,\n        \"samples\": [\n          0.5539868253584809,\n          0.4214897368316682,\n          0.3511434968685889\n        ],\n        \"semantic_type\": \"\",\n        \"description\": \"\"\n      }\n    },\n    {\n      \"column\": \"L(T-48)\",\n      \"properties\": {\n        \"dtype\": \"number\",\n        \"std\": 0.144983378042173,\n        \"min\": 0.0,\n        \"max\": 1.0,\n        \"num_unique_values\": 22752,\n        \"samples\": [\n          0.5697372643329213,\n          0.5384101733903971,\n          0.41134879629062093\n        ],\n        \"semantic_type\": \"\",\n        \"description\": \"\"\n      }\n    },\n    {\n      \"column\": \"P(T-1)\",\n      \"properties\": {\n        \"dtype\": \"number\",\n        \"std\": 0.16163571754374342,\n        \"min\": 0.0,\n        \"max\": 1.0,\n        \"num_unique_values\": 20759,\n        \"samples\": [\n          0.20724695573738808,\n          0.2945959667547194,\n          0.12114837961471553\n        ],\n        \"semantic_type\": \"\",\n        \"description\": \"\"\n      }\n    },\n    {\n      \"column\": \"P(T-2)\",\n      \"properties\": {\n        \"dtype\": \"number\",\n        \"std\": 0.1616297261548888,\n        \"min\": 0.0,\n        \"max\": 1.0,\n        \"num_unique_values\": 20760,\n        \"samples\": [\n          0.16688099993557115,\n          0.1023593840603054,\n          0.368614393402487\n        ],\n        \"semantic_type\": \"\",\n        \"description\": \"\"\n      }\n    },\n    {\n      \"column\": \"P(T-24)\",\n      \"properties\": {\n        \"dtype\": \"number\",\n        \"std\": 0.16152636031399692,\n        \"min\": 0.0,\n        \"max\": 1.0,\n        \"num_unique_values\": 20771,\n        \"samples\": [\n          0.11131705431351074,\n          0.10455614973262031,\n          0.041287030474840544\n        ],\n        \"semantic_type\": \"\",\n        \"description\": \"\"\n      }\n    },\n    {\n      \"column\": \"P(T-48)\",\n      \"properties\": {\n        \"dtype\": \"number\",\n        \"std\": 0.1614218179580656,\n        \"min\": 0.0,\n        \"max\": 1.0,\n        \"num_unique_values\": 20786,\n        \"samples\": [\n          0.13858746214805748,\n          0.0772589395013208,\n          0.17533303266542105\n        ],\n        \"semantic_type\": \"\",\n        \"description\": \"\"\n      }\n    },\n    {\n      \"column\": \"Day\",\n      \"properties\": {\n        \"dtype\": \"number\",\n        \"std\": 0.3502784013125734,\n        \"min\": 0.0,\n        \"max\": 1.0,\n        \"num_unique_values\": 2,\n        \"samples\": [\n          0.0,\n          1.0\n        ],\n        \"semantic_type\": \"\",\n        \"description\": \"\"\n      }\n    },\n    {\n      \"column\": \"Season\",\n      \"properties\": {\n        \"dtype\": \"number\",\n        \"std\": 0.3946414187931361,\n        \"min\": 0.0,\n        \"max\": 1.0,\n        \"num_unique_values\": 3,\n        \"samples\": [\n          1.0,\n          0.5\n        ],\n        \"semantic_type\": \"\",\n        \"description\": \"\"\n      }\n    },\n    {\n      \"column\": \"L(T)\",\n      \"properties\": {\n        \"dtype\": \"number\",\n        \"std\": 0.14512755056142004,\n        \"min\": 0.0,\n        \"max\": 1.0,\n        \"num_unique_values\": 22755,\n        \"samples\": [\n          0.32045098088703483,\n          0.28377543257460763\n        ],\n        \"semantic_type\": \"\",\n        \"description\": \"\"\n      }\n    }\n  ]\n}"
            }
          },
          "metadata": {},
          "execution_count": 41
        }
      ]
    },
    {
      "cell_type": "code",
      "source": [
        "X=dataset.iloc[:,0:10].values\n",
        "Y=dataset.iloc[:,10:].values\n",
        "print(X)\n",
        "print(Y)"
      ],
      "metadata": {
        "colab": {
          "base_uri": "https://localhost:8080/"
        },
        "id": "Ysz8StQN7fiR",
        "outputId": "33064a08-f6df-40d8-eb3b-ecf4f970430e"
      },
      "execution_count": 42,
      "outputs": [
        {
          "output_type": "stream",
          "name": "stdout",
          "text": [
            "[[0.2612372  0.22215532 0.29045145 ... 0.08694646 1.         1.        ]\n",
            " [0.31553879 0.2612372  0.3099841  ... 0.07723523 1.         1.        ]\n",
            " [0.34494702 0.31553879 0.33110751 ... 0.07264687 1.         1.        ]\n",
            " ...\n",
            " [0.04409575 0.04811016 0.09046587 ... 0.48456929 0.         0.        ]\n",
            " [0.043971   0.04409575 0.08935392 ... 0.48456929 0.         0.        ]\n",
            " [0.05531402 0.043971   0.08745741 ... 0.48456929 0.         0.        ]]\n",
            "[[0.31553879]\n",
            " [0.34494702]\n",
            " [0.35581988]\n",
            " ...\n",
            " [0.043971  ]\n",
            " [0.05531402]\n",
            " [0.05772108]]\n"
          ]
        }
      ]
    },
    {
      "cell_type": "code",
      "source": [
        "from sklearn.model_selection import train_test_split\n",
        "X_train, X_test, y_train, y_test = train_test_split(X, Y, test_size=0.2, random_state=0)\n",
        "print(y_test[0:5])\n",
        "print(X_test.shape)\n",
        "print(X_train.shape)"
      ],
      "metadata": {
        "colab": {
          "base_uri": "https://localhost:8080/"
        },
        "id": "zKWp2uzw8ky4",
        "outputId": "086d4151-e8cf-4042-895a-9e8224cf6140"
      },
      "execution_count": 43,
      "outputs": [
        {
          "output_type": "stream",
          "name": "stdout",
          "text": [
            "[[0.36760278]\n",
            " [0.32372193]\n",
            " [0.42424942]\n",
            " [0.27153679]\n",
            " [0.39462053]]\n",
            "(4661, 10)\n",
            "(18643, 10)\n"
          ]
        }
      ]
    },
    {
      "cell_type": "markdown",
      "source": [
        "#ANN Model Development"
      ],
      "metadata": {
        "id": "yMI8ruRs8xSF"
      }
    },
    {
      "cell_type": "code",
      "source": [
        "#First_Layer_Size = 32 # Number of neurons in first layer\n",
        "model=Sequential()\n",
        "model.add(Dense(18,activation='relu', input_shape=(10,)))\n",
        "model.add(Dense(18,activation='relu'))\n",
        "model.add(Dense(18,activation='relu'))\n",
        "model.add(Dense(1,activation='sigmoid')) #output Layer\n",
        "model.summary()"
      ],
      "metadata": {
        "colab": {
          "base_uri": "https://localhost:8080/"
        },
        "id": "XYabF48e8p7m",
        "outputId": "d11a2845-d8a1-49ad-c32e-c3efbc461726"
      },
      "execution_count": 44,
      "outputs": [
        {
          "output_type": "stream",
          "name": "stdout",
          "text": [
            "Model: \"sequential_1\"\n",
            "_________________________________________________________________\n",
            " Layer (type)                Output Shape              Param #   \n",
            "=================================================================\n",
            " dense_4 (Dense)             (None, 18)                198       \n",
            "                                                                 \n",
            " dense_5 (Dense)             (None, 18)                342       \n",
            "                                                                 \n",
            " dense_6 (Dense)             (None, 18)                342       \n",
            "                                                                 \n",
            " dense_7 (Dense)             (None, 1)                 19        \n",
            "                                                                 \n",
            "=================================================================\n",
            "Total params: 901 (3.52 KB)\n",
            "Trainable params: 901 (3.52 KB)\n",
            "Non-trainable params: 0 (0.00 Byte)\n",
            "_________________________________________________________________\n"
          ]
        }
      ]
    },
    {
      "cell_type": "markdown",
      "source": [
        "#Model Compilation"
      ],
      "metadata": {
        "id": "07itjTXJ9DcT"
      }
    },
    {
      "cell_type": "code",
      "source": [
        "model.compile(loss='MSE',\n",
        "              optimizer=Adam(),\n",
        "              metrics=['MSE'])"
      ],
      "metadata": {
        "id": "eQc5QlJC8-0E"
      },
      "execution_count": 45,
      "outputs": []
    },
    {
      "cell_type": "markdown",
      "source": [
        "#Model Training"
      ],
      "metadata": {
        "id": "r5cNvnli9HXA"
      }
    },
    {
      "cell_type": "code",
      "source": [
        "checkpoint_filepath = 'ANN.h5'\n",
        "model_checkpoint_callback = keras.callbacks.ModelCheckpoint(\n",
        "    filepath=checkpoint_filepath,\n",
        "    save_best_only=True)"
      ],
      "metadata": {
        "id": "Eng5GzSu-NRz"
      },
      "execution_count": 65,
      "outputs": []
    },
    {
      "cell_type": "code",
      "source": [
        "# Write the Training input and output variables, size of the batch, number of epochs\n",
        "history = model.fit(X_train,y_train,validation_data=(X_test, y_test),\n",
        "                    batch_size=32,\n",
        "                    epochs=10,verbose=1,callbacks=[model_checkpoint_callback])"
      ],
      "metadata": {
        "colab": {
          "base_uri": "https://localhost:8080/"
        },
        "id": "VFUtb2KY9G08",
        "outputId": "d6af24cd-908f-4996-cdad-4f2fa5ebac63"
      },
      "execution_count": 66,
      "outputs": [
        {
          "output_type": "stream",
          "name": "stdout",
          "text": [
            "Epoch 1/10\n",
            "583/583 [==============================] - 1s 3ms/step - loss: 0.0017 - MSE: 0.0017 - val_loss: 0.0018 - val_MSE: 0.0018\n",
            "Epoch 2/10\n",
            "583/583 [==============================] - 1s 3ms/step - loss: 0.0018 - MSE: 0.0018 - val_loss: 0.0018 - val_MSE: 0.0018\n",
            "Epoch 3/10\n",
            "583/583 [==============================] - 2s 3ms/step - loss: 0.0017 - MSE: 0.0017 - val_loss: 0.0017 - val_MSE: 0.0017\n",
            "Epoch 4/10\n",
            "583/583 [==============================] - 2s 4ms/step - loss: 0.0017 - MSE: 0.0017 - val_loss: 0.0017 - val_MSE: 0.0017\n",
            "Epoch 5/10\n",
            "583/583 [==============================] - 2s 3ms/step - loss: 0.0017 - MSE: 0.0017 - val_loss: 0.0017 - val_MSE: 0.0017\n",
            "Epoch 6/10\n",
            "583/583 [==============================] - 1s 2ms/step - loss: 0.0017 - MSE: 0.0017 - val_loss: 0.0017 - val_MSE: 0.0017\n",
            "Epoch 7/10\n",
            "583/583 [==============================] - 1s 2ms/step - loss: 0.0017 - MSE: 0.0017 - val_loss: 0.0018 - val_MSE: 0.0018\n",
            "Epoch 8/10\n",
            "583/583 [==============================] - 1s 3ms/step - loss: 0.0017 - MSE: 0.0017 - val_loss: 0.0017 - val_MSE: 0.0017\n",
            "Epoch 9/10\n",
            "583/583 [==============================] - 1s 2ms/step - loss: 0.0017 - MSE: 0.0017 - val_loss: 0.0018 - val_MSE: 0.0018\n",
            "Epoch 10/10\n",
            "583/583 [==============================] - 2s 3ms/step - loss: 0.0017 - MSE: 0.0017 - val_loss: 0.0018 - val_MSE: 0.0018\n"
          ]
        }
      ]
    },
    {
      "cell_type": "markdown",
      "source": [
        "#Model Testing"
      ],
      "metadata": {
        "id": "-V2hvvp5HNOv"
      }
    },
    {
      "cell_type": "code",
      "source": [
        "# Write the testing input and output variables\n",
        "score = model.evaluate(X_test, y_test, verbose=2)\n",
        "print('Test loss:', score[0])"
      ],
      "metadata": {
        "id": "vb8HvHut9NDf",
        "colab": {
          "base_uri": "https://localhost:8080/"
        },
        "outputId": "ad115eb2-3b92-48e7-a259-838503d7447a"
      },
      "execution_count": 50,
      "outputs": [
        {
          "output_type": "stream",
          "name": "stdout",
          "text": [
            "146/146 - 1s - loss: 0.0017 - MSE: 0.0017 - 924ms/epoch - 6ms/step\n",
            "Test loss: 0.0017252461984753609\n"
          ]
        }
      ]
    },
    {
      "cell_type": "markdown",
      "source": [
        "#Model Prediction"
      ],
      "metadata": {
        "id": "1zFEObfUHQvP"
      }
    },
    {
      "cell_type": "code",
      "source": [
        "# Write the index of the test sample to test\n",
        "print(X_test[0])\n",
        "prediction = model.predict(X_test[0].reshape(1,10))\n",
        "print(prediction[0]*(max_target-min_target)+min_target)\n",
        "print(y_test[0]*(max_target-min_target)+min_target)"
      ],
      "metadata": {
        "colab": {
          "base_uri": "https://localhost:8080/"
        },
        "id": "y4QvbiE4A59M",
        "outputId": "9ae8a4ea-354e-4ef1-aa2d-a8995186ca4d"
      },
      "execution_count": 59,
      "outputs": [
        {
          "output_type": "stream",
          "name": "stdout",
          "text": [
            "[0.43172226 0.37417352 0.4711921  0.42951134 0.50918833 0.58765543\n",
            " 0.33524644 0.3124443  0.         1.        ]\n",
            "1/1 [==============================] - 0s 25ms/step\n",
            "[7530.014]\n",
            "[6326.93]\n"
          ]
        }
      ]
    },
    {
      "cell_type": "markdown",
      "source": [
        "#Save Model"
      ],
      "metadata": {
        "id": "ByIfOpklHbfO"
      }
    },
    {
      "cell_type": "code",
      "source": [
        "#model.save(\"my_model.h5\")"
      ],
      "metadata": {
        "colab": {
          "base_uri": "https://localhost:8080/"
        },
        "id": "GDYujA3OBA37",
        "outputId": "18d9c445-e765-4329-a2af-a076043d2fd6"
      },
      "execution_count": 60,
      "outputs": [
        {
          "output_type": "stream",
          "name": "stderr",
          "text": [
            "/usr/local/lib/python3.10/dist-packages/keras/src/engine/training.py:3103: UserWarning: You are saving your model as an HDF5 file via `model.save()`. This file format is considered legacy. We recommend using instead the native Keras format, e.g. `model.save('my_model.keras')`.\n",
            "  saving_api.save_model(\n"
          ]
        }
      ]
    },
    {
      "cell_type": "markdown",
      "source": [
        "#LOad Model"
      ],
      "metadata": {
        "id": "JJcpeF6vHeSm"
      }
    },
    {
      "cell_type": "code",
      "source": [
        "# load model\n",
        "from keras.models import load_model\n",
        "model = load_model('ANN.h5')\n",
        "# summarize model.\n",
        "model.summary()"
      ],
      "metadata": {
        "colab": {
          "base_uri": "https://localhost:8080/"
        },
        "id": "MxwRFuj3CObt",
        "outputId": "4b2c4584-fdec-460d-f857-61a0e0da677b"
      },
      "execution_count": 67,
      "outputs": [
        {
          "output_type": "stream",
          "name": "stdout",
          "text": [
            "Model: \"sequential_1\"\n",
            "_________________________________________________________________\n",
            " Layer (type)                Output Shape              Param #   \n",
            "=================================================================\n",
            " dense_4 (Dense)             (None, 18)                198       \n",
            "                                                                 \n",
            " dense_5 (Dense)             (None, 18)                342       \n",
            "                                                                 \n",
            " dense_6 (Dense)             (None, 18)                342       \n",
            "                                                                 \n",
            " dense_7 (Dense)             (None, 1)                 19        \n",
            "                                                                 \n",
            "=================================================================\n",
            "Total params: 901 (3.52 KB)\n",
            "Trainable params: 901 (3.52 KB)\n",
            "Non-trainable params: 0 (0.00 Byte)\n",
            "_________________________________________________________________\n"
          ]
        }
      ]
    },
    {
      "cell_type": "markdown",
      "source": [
        "#Model Deployment"
      ],
      "metadata": {
        "id": "RwGqSAdGHhgg"
      }
    },
    {
      "cell_type": "code",
      "source": [
        "from keras.models import load_model\n",
        "model = load_model('ANN.h5')\n",
        "inputvector=np.zeros((1,10))\n",
        "\n",
        "LT1=input(\"enter L(T-1) value\")\n",
        "inputvector[0,0]=(float(LT1)-min_target)/(max_target-min_target)\n",
        "LT2=input(\"enter L(T-2) value\")\n",
        "inputvector[0,1]=(float(LT2)-min_target)/(max_target-min_target)\n",
        "LT24=input(\"enter L(T-24) value\")\n",
        "inputvector[0,2]=(float(LT24)-min_target)/(max_target-min_target)\n",
        "LT48=input(\"enter L(T-48) value\")\n",
        "inputvector[0,3]=(float(LT48)-min_target)/(max_target-min_target)\n",
        "\n",
        "PT1=input(\"enter P(T-1) value\")\n",
        "inputvector[0,4]=(float(PT1)-min_price)/(max_target-min_price)\n",
        "PT2=input(\"enter P(T-2) value\")\n",
        "inputvector[0,5]=(float(PT2)-min_price)/(max_target-min_price)\n",
        "PT24=input(\"enter P(T-24) value\")\n",
        "inputvector[0,6]=(float(PT24)-min_price)/(max_target-min_price)\n",
        "PT48=input(\"enter P(T-48) value\")\n",
        "inputvector[0,7]=(float(PT48)-min_price)/(max_target-min_price)\n",
        "\n",
        "\n",
        "Day=input(\"enter Day Status\")\n",
        "inputvector[0,8]=(float(Day)-0)/(1-0)\n",
        "Season=input(\"enter Season Status\")\n",
        "inputvector[0,9]=(float(Season)-0)/(2-0)\n",
        "\n",
        "inputvector\n"
      ],
      "metadata": {
        "colab": {
          "base_uri": "https://localhost:8080/"
        },
        "id": "sURaxu4BCYTH",
        "outputId": "57674f19-0cac-43ed-be33-4c0722ff3190"
      },
      "execution_count": 71,
      "outputs": [
        {
          "name": "stdout",
          "output_type": "stream",
          "text": [
            "enter L(T-1) value1200\n",
            "enter L(T-2) value1200\n",
            "enter L(T-24) value1500\n",
            "enter L(T-48) value1500\n",
            "enter P(T-1) value8000\n",
            "enter P(T-2) value8000\n",
            "enter P(T-24) value12000\n",
            "enter P(T-48) value12000\n",
            "enter Day Status0\n",
            "enter Season Status1\n"
          ]
        },
        {
          "output_type": "execute_result",
          "data": {
            "text/plain": [
              "array([[-0.00210419, -0.00210419,  0.01952904,  0.01952904,  0.51050215,\n",
              "         0.51050215,  0.78640266,  0.78640266,  0.        ,  0.5       ]])"
            ]
          },
          "metadata": {},
          "execution_count": 71
        }
      ]
    },
    {
      "cell_type": "code",
      "source": [
        "inputvector[0].reshape(1,10)"
      ],
      "metadata": {
        "colab": {
          "base_uri": "https://localhost:8080/"
        },
        "id": "5W_wpLH3GukG",
        "outputId": "3ec0cfea-3824-4cf6-ee13-88ba5a0c01bf"
      },
      "execution_count": 72,
      "outputs": [
        {
          "output_type": "execute_result",
          "data": {
            "text/plain": [
              "array([[-0.00210419, -0.00210419,  0.01952904,  0.01952904,  0.51050215,\n",
              "         0.51050215,  0.78640266,  0.78640266,  0.        ,  0.5       ]])"
            ]
          },
          "metadata": {},
          "execution_count": 72
        }
      ]
    },
    {
      "cell_type": "code",
      "source": [
        "prediction = model.predict(inputvector[0].reshape(1,10))\n",
        "print(\"Predcited Load=\",prediction[0]*(max_target-min_target)+min_target)"
      ],
      "metadata": {
        "colab": {
          "base_uri": "https://localhost:8080/"
        },
        "id": "5hg4fXOuGCkf",
        "outputId": "f72416cf-61a4-40ac-e22d-8f145153520f"
      },
      "execution_count": 76,
      "outputs": [
        {
          "output_type": "stream",
          "name": "stdout",
          "text": [
            "1/1 [==============================] - 0s 25ms/step\n",
            "Predcited Load= [1829.9052]\n"
          ]
        }
      ]
    },
    {
      "cell_type": "markdown",
      "source": [
        "# **#Thank You**"
      ],
      "metadata": {
        "id": "VxRNVZVVHFKN"
      }
    }
  ]
}